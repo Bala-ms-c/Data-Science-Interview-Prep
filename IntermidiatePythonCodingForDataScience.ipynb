{
  "nbformat": 4,
  "nbformat_minor": 0,
  "metadata": {
    "colab": {
      "provenance": []
    },
    "kernelspec": {
      "name": "python3",
      "display_name": "Python 3"
    },
    "language_info": {
      "name": "python"
    }
  },
  "cells": [
    {
      "cell_type": "markdown",
      "source": [
        "1) Merge two lists and separate the elements into duplicates and unique values."
      ],
      "metadata": {
        "id": "1I7y5MPWSEvT"
      }
    },
    {
      "cell_type": "code",
      "execution_count": null,
      "metadata": {
        "colab": {
          "base_uri": "https://localhost:8080/"
        },
        "id": "44NEmkVNQeF0",
        "outputId": "3039b69c-22b7-4c00-ef35-b97083dead69"
      },
      "outputs": [
        {
          "output_type": "stream",
          "name": "stdout",
          "text": [
            "[2, 3, 4]\n",
            "[1, 5, 6, 7, 8, 9, 10]\n"
          ]
        }
      ],
      "source": [
        "L1 = [1,2,3,4,5,6,7]\n",
        "L2 = [2,3,4,8,9,10]\n",
        "L4 = []\n",
        "L5 = []\n",
        "\n",
        "L3 = L1+L2\n",
        "for i in L3:\n",
        "  if L3.count(i) > 1:\n",
        "    if i not in L4:\n",
        "     L4.append(i)\n",
        "  else:\n",
        "    L5.append(i)\n",
        "print(L4)\n",
        "print(L5)"
      ]
    },
    {
      "cell_type": "markdown",
      "source": [
        "2) Dataframe Question"
      ],
      "metadata": {
        "id": "Rg1_qrbZTsfq"
      }
    },
    {
      "cell_type": "code",
      "source": [
        "import pandas as pd\n",
        "\n",
        "# Sample data for d1 and d2\n",
        "data1 = {\n",
        "    'employee name': ['Alice', 'Bob', 'Alice'],\n",
        "    'years worked': ['2012-2013', '2014-2015', '2015-2016'],\n",
        "    'company worked for': ['Company A', 'Company B', 'Company C']\n",
        "}\n",
        "\n",
        "data2 = {\n",
        "    'employee name': ['Alice', 'Bob', 'Charlie'],\n",
        "    'years worked': ['2012-2013', '2014-2015', '2016-2017'],\n",
        "    'previous company worked for': ['Company D', 'Company E', 'Company F']\n",
        "}\n",
        "\n",
        "# Create dataframes\n",
        "d1 = pd.DataFrame(data1)\n",
        "d2 = pd.DataFrame(data2)\n",
        "\n",
        "# Combine the two dataframes\n",
        "combined = pd.concat([\n",
        "    d1.rename(columns={'company worked for': 'companies worked for'}),\n",
        "    d2.rename(columns={'previous company worked for': 'companies worked for'})\n",
        "])\n",
        "\n",
        "# Group by employee name and aggregate the data\n",
        "result = combined.groupby('employee name').agg(\n",
        "    no_of_years_exp=('years worked', lambda x: len(set(x))),\n",
        "    companies_worked_for=('companies worked for', lambda x: ', '.join(set(x)))\n",
        ").reset_index()\n",
        "\n",
        "# Display the result\n",
        "print(result)"
      ],
      "metadata": {
        "colab": {
          "base_uri": "https://localhost:8080/"
        },
        "id": "fl2CzWPTR6zk",
        "outputId": "d78013b9-3d25-4eaf-ccbf-0ee9693fe87d"
      },
      "execution_count": null,
      "outputs": [
        {
          "output_type": "stream",
          "name": "stdout",
          "text": [
            "  employee name  no_of_years_exp             companies_worked_for\n",
            "0         Alice                2  Company C, Company D, Company A\n",
            "1           Bob                1             Company B, Company E\n",
            "2       Charlie                1                        Company F\n"
          ]
        }
      ]
    },
    {
      "cell_type": "code",
      "source": [
        "combined"
      ],
      "metadata": {
        "colab": {
          "base_uri": "https://localhost:8080/",
          "height": 238
        },
        "id": "xm1f87gTTHzf",
        "outputId": "09a4641d-2c6e-47e3-c35b-0b3c21908a29"
      },
      "execution_count": null,
      "outputs": [
        {
          "output_type": "execute_result",
          "data": {
            "text/plain": [
              "  employee name years worked companies worked for\n",
              "0         Alice    2012-2013            Company A\n",
              "1           Bob    2014-2015            Company B\n",
              "2         Alice    2015-2016            Company C\n",
              "0         Alice    2012-2013            Company D\n",
              "1           Bob    2014-2015            Company E\n",
              "2       Charlie    2016-2017            Company F"
            ],
            "text/html": [
              "\n",
              "  <div id=\"df-afde927a-cb02-4de5-a299-2527201f2c67\" class=\"colab-df-container\">\n",
              "    <div>\n",
              "<style scoped>\n",
              "    .dataframe tbody tr th:only-of-type {\n",
              "        vertical-align: middle;\n",
              "    }\n",
              "\n",
              "    .dataframe tbody tr th {\n",
              "        vertical-align: top;\n",
              "    }\n",
              "\n",
              "    .dataframe thead th {\n",
              "        text-align: right;\n",
              "    }\n",
              "</style>\n",
              "<table border=\"1\" class=\"dataframe\">\n",
              "  <thead>\n",
              "    <tr style=\"text-align: right;\">\n",
              "      <th></th>\n",
              "      <th>employee name</th>\n",
              "      <th>years worked</th>\n",
              "      <th>companies worked for</th>\n",
              "    </tr>\n",
              "  </thead>\n",
              "  <tbody>\n",
              "    <tr>\n",
              "      <th>0</th>\n",
              "      <td>Alice</td>\n",
              "      <td>2012-2013</td>\n",
              "      <td>Company A</td>\n",
              "    </tr>\n",
              "    <tr>\n",
              "      <th>1</th>\n",
              "      <td>Bob</td>\n",
              "      <td>2014-2015</td>\n",
              "      <td>Company B</td>\n",
              "    </tr>\n",
              "    <tr>\n",
              "      <th>2</th>\n",
              "      <td>Alice</td>\n",
              "      <td>2015-2016</td>\n",
              "      <td>Company C</td>\n",
              "    </tr>\n",
              "    <tr>\n",
              "      <th>0</th>\n",
              "      <td>Alice</td>\n",
              "      <td>2012-2013</td>\n",
              "      <td>Company D</td>\n",
              "    </tr>\n",
              "    <tr>\n",
              "      <th>1</th>\n",
              "      <td>Bob</td>\n",
              "      <td>2014-2015</td>\n",
              "      <td>Company E</td>\n",
              "    </tr>\n",
              "    <tr>\n",
              "      <th>2</th>\n",
              "      <td>Charlie</td>\n",
              "      <td>2016-2017</td>\n",
              "      <td>Company F</td>\n",
              "    </tr>\n",
              "  </tbody>\n",
              "</table>\n",
              "</div>\n",
              "    <div class=\"colab-df-buttons\">\n",
              "\n",
              "  <div class=\"colab-df-container\">\n",
              "    <button class=\"colab-df-convert\" onclick=\"convertToInteractive('df-afde927a-cb02-4de5-a299-2527201f2c67')\"\n",
              "            title=\"Convert this dataframe to an interactive table.\"\n",
              "            style=\"display:none;\">\n",
              "\n",
              "  <svg xmlns=\"http://www.w3.org/2000/svg\" height=\"24px\" viewBox=\"0 -960 960 960\">\n",
              "    <path d=\"M120-120v-720h720v720H120Zm60-500h600v-160H180v160Zm220 220h160v-160H400v160Zm0 220h160v-160H400v160ZM180-400h160v-160H180v160Zm440 0h160v-160H620v160ZM180-180h160v-160H180v160Zm440 0h160v-160H620v160Z\"/>\n",
              "  </svg>\n",
              "    </button>\n",
              "\n",
              "  <style>\n",
              "    .colab-df-container {\n",
              "      display:flex;\n",
              "      gap: 12px;\n",
              "    }\n",
              "\n",
              "    .colab-df-convert {\n",
              "      background-color: #E8F0FE;\n",
              "      border: none;\n",
              "      border-radius: 50%;\n",
              "      cursor: pointer;\n",
              "      display: none;\n",
              "      fill: #1967D2;\n",
              "      height: 32px;\n",
              "      padding: 0 0 0 0;\n",
              "      width: 32px;\n",
              "    }\n",
              "\n",
              "    .colab-df-convert:hover {\n",
              "      background-color: #E2EBFA;\n",
              "      box-shadow: 0px 1px 2px rgba(60, 64, 67, 0.3), 0px 1px 3px 1px rgba(60, 64, 67, 0.15);\n",
              "      fill: #174EA6;\n",
              "    }\n",
              "\n",
              "    .colab-df-buttons div {\n",
              "      margin-bottom: 4px;\n",
              "    }\n",
              "\n",
              "    [theme=dark] .colab-df-convert {\n",
              "      background-color: #3B4455;\n",
              "      fill: #D2E3FC;\n",
              "    }\n",
              "\n",
              "    [theme=dark] .colab-df-convert:hover {\n",
              "      background-color: #434B5C;\n",
              "      box-shadow: 0px 1px 3px 1px rgba(0, 0, 0, 0.15);\n",
              "      filter: drop-shadow(0px 1px 2px rgba(0, 0, 0, 0.3));\n",
              "      fill: #FFFFFF;\n",
              "    }\n",
              "  </style>\n",
              "\n",
              "    <script>\n",
              "      const buttonEl =\n",
              "        document.querySelector('#df-afde927a-cb02-4de5-a299-2527201f2c67 button.colab-df-convert');\n",
              "      buttonEl.style.display =\n",
              "        google.colab.kernel.accessAllowed ? 'block' : 'none';\n",
              "\n",
              "      async function convertToInteractive(key) {\n",
              "        const element = document.querySelector('#df-afde927a-cb02-4de5-a299-2527201f2c67');\n",
              "        const dataTable =\n",
              "          await google.colab.kernel.invokeFunction('convertToInteractive',\n",
              "                                                    [key], {});\n",
              "        if (!dataTable) return;\n",
              "\n",
              "        const docLinkHtml = 'Like what you see? Visit the ' +\n",
              "          '<a target=\"_blank\" href=https://colab.research.google.com/notebooks/data_table.ipynb>data table notebook</a>'\n",
              "          + ' to learn more about interactive tables.';\n",
              "        element.innerHTML = '';\n",
              "        dataTable['output_type'] = 'display_data';\n",
              "        await google.colab.output.renderOutput(dataTable, element);\n",
              "        const docLink = document.createElement('div');\n",
              "        docLink.innerHTML = docLinkHtml;\n",
              "        element.appendChild(docLink);\n",
              "      }\n",
              "    </script>\n",
              "  </div>\n",
              "\n",
              "\n",
              "<div id=\"df-1b655ae2-4a3c-428e-b38f-6cc7246ce03c\">\n",
              "  <button class=\"colab-df-quickchart\" onclick=\"quickchart('df-1b655ae2-4a3c-428e-b38f-6cc7246ce03c')\"\n",
              "            title=\"Suggest charts\"\n",
              "            style=\"display:none;\">\n",
              "\n",
              "<svg xmlns=\"http://www.w3.org/2000/svg\" height=\"24px\"viewBox=\"0 0 24 24\"\n",
              "     width=\"24px\">\n",
              "    <g>\n",
              "        <path d=\"M19 3H5c-1.1 0-2 .9-2 2v14c0 1.1.9 2 2 2h14c1.1 0 2-.9 2-2V5c0-1.1-.9-2-2-2zM9 17H7v-7h2v7zm4 0h-2V7h2v10zm4 0h-2v-4h2v4z\"/>\n",
              "    </g>\n",
              "</svg>\n",
              "  </button>\n",
              "\n",
              "<style>\n",
              "  .colab-df-quickchart {\n",
              "      --bg-color: #E8F0FE;\n",
              "      --fill-color: #1967D2;\n",
              "      --hover-bg-color: #E2EBFA;\n",
              "      --hover-fill-color: #174EA6;\n",
              "      --disabled-fill-color: #AAA;\n",
              "      --disabled-bg-color: #DDD;\n",
              "  }\n",
              "\n",
              "  [theme=dark] .colab-df-quickchart {\n",
              "      --bg-color: #3B4455;\n",
              "      --fill-color: #D2E3FC;\n",
              "      --hover-bg-color: #434B5C;\n",
              "      --hover-fill-color: #FFFFFF;\n",
              "      --disabled-bg-color: #3B4455;\n",
              "      --disabled-fill-color: #666;\n",
              "  }\n",
              "\n",
              "  .colab-df-quickchart {\n",
              "    background-color: var(--bg-color);\n",
              "    border: none;\n",
              "    border-radius: 50%;\n",
              "    cursor: pointer;\n",
              "    display: none;\n",
              "    fill: var(--fill-color);\n",
              "    height: 32px;\n",
              "    padding: 0;\n",
              "    width: 32px;\n",
              "  }\n",
              "\n",
              "  .colab-df-quickchart:hover {\n",
              "    background-color: var(--hover-bg-color);\n",
              "    box-shadow: 0 1px 2px rgba(60, 64, 67, 0.3), 0 1px 3px 1px rgba(60, 64, 67, 0.15);\n",
              "    fill: var(--button-hover-fill-color);\n",
              "  }\n",
              "\n",
              "  .colab-df-quickchart-complete:disabled,\n",
              "  .colab-df-quickchart-complete:disabled:hover {\n",
              "    background-color: var(--disabled-bg-color);\n",
              "    fill: var(--disabled-fill-color);\n",
              "    box-shadow: none;\n",
              "  }\n",
              "\n",
              "  .colab-df-spinner {\n",
              "    border: 2px solid var(--fill-color);\n",
              "    border-color: transparent;\n",
              "    border-bottom-color: var(--fill-color);\n",
              "    animation:\n",
              "      spin 1s steps(1) infinite;\n",
              "  }\n",
              "\n",
              "  @keyframes spin {\n",
              "    0% {\n",
              "      border-color: transparent;\n",
              "      border-bottom-color: var(--fill-color);\n",
              "      border-left-color: var(--fill-color);\n",
              "    }\n",
              "    20% {\n",
              "      border-color: transparent;\n",
              "      border-left-color: var(--fill-color);\n",
              "      border-top-color: var(--fill-color);\n",
              "    }\n",
              "    30% {\n",
              "      border-color: transparent;\n",
              "      border-left-color: var(--fill-color);\n",
              "      border-top-color: var(--fill-color);\n",
              "      border-right-color: var(--fill-color);\n",
              "    }\n",
              "    40% {\n",
              "      border-color: transparent;\n",
              "      border-right-color: var(--fill-color);\n",
              "      border-top-color: var(--fill-color);\n",
              "    }\n",
              "    60% {\n",
              "      border-color: transparent;\n",
              "      border-right-color: var(--fill-color);\n",
              "    }\n",
              "    80% {\n",
              "      border-color: transparent;\n",
              "      border-right-color: var(--fill-color);\n",
              "      border-bottom-color: var(--fill-color);\n",
              "    }\n",
              "    90% {\n",
              "      border-color: transparent;\n",
              "      border-bottom-color: var(--fill-color);\n",
              "    }\n",
              "  }\n",
              "</style>\n",
              "\n",
              "  <script>\n",
              "    async function quickchart(key) {\n",
              "      const quickchartButtonEl =\n",
              "        document.querySelector('#' + key + ' button');\n",
              "      quickchartButtonEl.disabled = true;  // To prevent multiple clicks.\n",
              "      quickchartButtonEl.classList.add('colab-df-spinner');\n",
              "      try {\n",
              "        const charts = await google.colab.kernel.invokeFunction(\n",
              "            'suggestCharts', [key], {});\n",
              "      } catch (error) {\n",
              "        console.error('Error during call to suggestCharts:', error);\n",
              "      }\n",
              "      quickchartButtonEl.classList.remove('colab-df-spinner');\n",
              "      quickchartButtonEl.classList.add('colab-df-quickchart-complete');\n",
              "    }\n",
              "    (() => {\n",
              "      let quickchartButtonEl =\n",
              "        document.querySelector('#df-1b655ae2-4a3c-428e-b38f-6cc7246ce03c button');\n",
              "      quickchartButtonEl.style.display =\n",
              "        google.colab.kernel.accessAllowed ? 'block' : 'none';\n",
              "    })();\n",
              "  </script>\n",
              "</div>\n",
              "\n",
              "  <div id=\"id_5509a25e-4edd-4de7-9a48-1d800a9ac68d\">\n",
              "    <style>\n",
              "      .colab-df-generate {\n",
              "        background-color: #E8F0FE;\n",
              "        border: none;\n",
              "        border-radius: 50%;\n",
              "        cursor: pointer;\n",
              "        display: none;\n",
              "        fill: #1967D2;\n",
              "        height: 32px;\n",
              "        padding: 0 0 0 0;\n",
              "        width: 32px;\n",
              "      }\n",
              "\n",
              "      .colab-df-generate:hover {\n",
              "        background-color: #E2EBFA;\n",
              "        box-shadow: 0px 1px 2px rgba(60, 64, 67, 0.3), 0px 1px 3px 1px rgba(60, 64, 67, 0.15);\n",
              "        fill: #174EA6;\n",
              "      }\n",
              "\n",
              "      [theme=dark] .colab-df-generate {\n",
              "        background-color: #3B4455;\n",
              "        fill: #D2E3FC;\n",
              "      }\n",
              "\n",
              "      [theme=dark] .colab-df-generate:hover {\n",
              "        background-color: #434B5C;\n",
              "        box-shadow: 0px 1px 3px 1px rgba(0, 0, 0, 0.15);\n",
              "        filter: drop-shadow(0px 1px 2px rgba(0, 0, 0, 0.3));\n",
              "        fill: #FFFFFF;\n",
              "      }\n",
              "    </style>\n",
              "    <button class=\"colab-df-generate\" onclick=\"generateWithVariable('combined')\"\n",
              "            title=\"Generate code using this dataframe.\"\n",
              "            style=\"display:none;\">\n",
              "\n",
              "  <svg xmlns=\"http://www.w3.org/2000/svg\" height=\"24px\"viewBox=\"0 0 24 24\"\n",
              "       width=\"24px\">\n",
              "    <path d=\"M7,19H8.4L18.45,9,17,7.55,7,17.6ZM5,21V16.75L18.45,3.32a2,2,0,0,1,2.83,0l1.4,1.43a1.91,1.91,0,0,1,.58,1.4,1.91,1.91,0,0,1-.58,1.4L9.25,21ZM18.45,9,17,7.55Zm-12,3A5.31,5.31,0,0,0,4.9,8.1,5.31,5.31,0,0,0,1,6.5,5.31,5.31,0,0,0,4.9,4.9,5.31,5.31,0,0,0,6.5,1,5.31,5.31,0,0,0,8.1,4.9,5.31,5.31,0,0,0,12,6.5,5.46,5.46,0,0,0,6.5,12Z\"/>\n",
              "  </svg>\n",
              "    </button>\n",
              "    <script>\n",
              "      (() => {\n",
              "      const buttonEl =\n",
              "        document.querySelector('#id_5509a25e-4edd-4de7-9a48-1d800a9ac68d button.colab-df-generate');\n",
              "      buttonEl.style.display =\n",
              "        google.colab.kernel.accessAllowed ? 'block' : 'none';\n",
              "\n",
              "      buttonEl.onclick = () => {\n",
              "        google.colab.notebook.generateWithVariable('combined');\n",
              "      }\n",
              "      })();\n",
              "    </script>\n",
              "  </div>\n",
              "\n",
              "    </div>\n",
              "  </div>\n"
            ],
            "application/vnd.google.colaboratory.intrinsic+json": {
              "type": "dataframe",
              "variable_name": "combined",
              "summary": "{\n  \"name\": \"combined\",\n  \"rows\": 6,\n  \"fields\": [\n    {\n      \"column\": \"employee name\",\n      \"properties\": {\n        \"dtype\": \"string\",\n        \"num_unique_values\": 3,\n        \"samples\": [\n          \"Alice\",\n          \"Bob\",\n          \"Charlie\"\n        ],\n        \"semantic_type\": \"\",\n        \"description\": \"\"\n      }\n    },\n    {\n      \"column\": \"years worked\",\n      \"properties\": {\n        \"dtype\": \"string\",\n        \"num_unique_values\": 4,\n        \"samples\": [\n          \"2014-2015\",\n          \"2016-2017\",\n          \"2012-2013\"\n        ],\n        \"semantic_type\": \"\",\n        \"description\": \"\"\n      }\n    },\n    {\n      \"column\": \"companies worked for\",\n      \"properties\": {\n        \"dtype\": \"string\",\n        \"num_unique_values\": 6,\n        \"samples\": [\n          \"Company A\",\n          \"Company B\",\n          \"Company F\"\n        ],\n        \"semantic_type\": \"\",\n        \"description\": \"\"\n      }\n    }\n  ]\n}"
            }
          },
          "metadata": {},
          "execution_count": 14
        }
      ]
    },
    {
      "cell_type": "markdown",
      "source": [
        "3) To remove duplicates from the dataframe?"
      ],
      "metadata": {
        "id": "F3n5gRbrT5s_"
      }
    },
    {
      "cell_type": "code",
      "source": [
        "d1.drop_duplicates(subset=None, keep='first', inplace=False)"
      ],
      "metadata": {
        "colab": {
          "base_uri": "https://localhost:8080/",
          "height": 143
        },
        "id": "gC2NxYeaTneV",
        "outputId": "a1c3b3c2-81aa-46f2-a2ad-e7633f252410"
      },
      "execution_count": null,
      "outputs": [
        {
          "output_type": "execute_result",
          "data": {
            "text/plain": [
              "  employee name years worked company worked for\n",
              "0         Alice    2012-2013          Company A\n",
              "1           Bob    2014-2015          Company B\n",
              "2         Alice    2015-2016          Company C"
            ],
            "text/html": [
              "\n",
              "  <div id=\"df-22fab3ec-ac14-463e-bdd1-c60927b60381\" class=\"colab-df-container\">\n",
              "    <div>\n",
              "<style scoped>\n",
              "    .dataframe tbody tr th:only-of-type {\n",
              "        vertical-align: middle;\n",
              "    }\n",
              "\n",
              "    .dataframe tbody tr th {\n",
              "        vertical-align: top;\n",
              "    }\n",
              "\n",
              "    .dataframe thead th {\n",
              "        text-align: right;\n",
              "    }\n",
              "</style>\n",
              "<table border=\"1\" class=\"dataframe\">\n",
              "  <thead>\n",
              "    <tr style=\"text-align: right;\">\n",
              "      <th></th>\n",
              "      <th>employee name</th>\n",
              "      <th>years worked</th>\n",
              "      <th>company worked for</th>\n",
              "    </tr>\n",
              "  </thead>\n",
              "  <tbody>\n",
              "    <tr>\n",
              "      <th>0</th>\n",
              "      <td>Alice</td>\n",
              "      <td>2012-2013</td>\n",
              "      <td>Company A</td>\n",
              "    </tr>\n",
              "    <tr>\n",
              "      <th>1</th>\n",
              "      <td>Bob</td>\n",
              "      <td>2014-2015</td>\n",
              "      <td>Company B</td>\n",
              "    </tr>\n",
              "    <tr>\n",
              "      <th>2</th>\n",
              "      <td>Alice</td>\n",
              "      <td>2015-2016</td>\n",
              "      <td>Company C</td>\n",
              "    </tr>\n",
              "  </tbody>\n",
              "</table>\n",
              "</div>\n",
              "    <div class=\"colab-df-buttons\">\n",
              "\n",
              "  <div class=\"colab-df-container\">\n",
              "    <button class=\"colab-df-convert\" onclick=\"convertToInteractive('df-22fab3ec-ac14-463e-bdd1-c60927b60381')\"\n",
              "            title=\"Convert this dataframe to an interactive table.\"\n",
              "            style=\"display:none;\">\n",
              "\n",
              "  <svg xmlns=\"http://www.w3.org/2000/svg\" height=\"24px\" viewBox=\"0 -960 960 960\">\n",
              "    <path d=\"M120-120v-720h720v720H120Zm60-500h600v-160H180v160Zm220 220h160v-160H400v160Zm0 220h160v-160H400v160ZM180-400h160v-160H180v160Zm440 0h160v-160H620v160ZM180-180h160v-160H180v160Zm440 0h160v-160H620v160Z\"/>\n",
              "  </svg>\n",
              "    </button>\n",
              "\n",
              "  <style>\n",
              "    .colab-df-container {\n",
              "      display:flex;\n",
              "      gap: 12px;\n",
              "    }\n",
              "\n",
              "    .colab-df-convert {\n",
              "      background-color: #E8F0FE;\n",
              "      border: none;\n",
              "      border-radius: 50%;\n",
              "      cursor: pointer;\n",
              "      display: none;\n",
              "      fill: #1967D2;\n",
              "      height: 32px;\n",
              "      padding: 0 0 0 0;\n",
              "      width: 32px;\n",
              "    }\n",
              "\n",
              "    .colab-df-convert:hover {\n",
              "      background-color: #E2EBFA;\n",
              "      box-shadow: 0px 1px 2px rgba(60, 64, 67, 0.3), 0px 1px 3px 1px rgba(60, 64, 67, 0.15);\n",
              "      fill: #174EA6;\n",
              "    }\n",
              "\n",
              "    .colab-df-buttons div {\n",
              "      margin-bottom: 4px;\n",
              "    }\n",
              "\n",
              "    [theme=dark] .colab-df-convert {\n",
              "      background-color: #3B4455;\n",
              "      fill: #D2E3FC;\n",
              "    }\n",
              "\n",
              "    [theme=dark] .colab-df-convert:hover {\n",
              "      background-color: #434B5C;\n",
              "      box-shadow: 0px 1px 3px 1px rgba(0, 0, 0, 0.15);\n",
              "      filter: drop-shadow(0px 1px 2px rgba(0, 0, 0, 0.3));\n",
              "      fill: #FFFFFF;\n",
              "    }\n",
              "  </style>\n",
              "\n",
              "    <script>\n",
              "      const buttonEl =\n",
              "        document.querySelector('#df-22fab3ec-ac14-463e-bdd1-c60927b60381 button.colab-df-convert');\n",
              "      buttonEl.style.display =\n",
              "        google.colab.kernel.accessAllowed ? 'block' : 'none';\n",
              "\n",
              "      async function convertToInteractive(key) {\n",
              "        const element = document.querySelector('#df-22fab3ec-ac14-463e-bdd1-c60927b60381');\n",
              "        const dataTable =\n",
              "          await google.colab.kernel.invokeFunction('convertToInteractive',\n",
              "                                                    [key], {});\n",
              "        if (!dataTable) return;\n",
              "\n",
              "        const docLinkHtml = 'Like what you see? Visit the ' +\n",
              "          '<a target=\"_blank\" href=https://colab.research.google.com/notebooks/data_table.ipynb>data table notebook</a>'\n",
              "          + ' to learn more about interactive tables.';\n",
              "        element.innerHTML = '';\n",
              "        dataTable['output_type'] = 'display_data';\n",
              "        await google.colab.output.renderOutput(dataTable, element);\n",
              "        const docLink = document.createElement('div');\n",
              "        docLink.innerHTML = docLinkHtml;\n",
              "        element.appendChild(docLink);\n",
              "      }\n",
              "    </script>\n",
              "  </div>\n",
              "\n",
              "\n",
              "<div id=\"df-230a95b0-5e35-4f52-9dec-4e4d6e8cfe5d\">\n",
              "  <button class=\"colab-df-quickchart\" onclick=\"quickchart('df-230a95b0-5e35-4f52-9dec-4e4d6e8cfe5d')\"\n",
              "            title=\"Suggest charts\"\n",
              "            style=\"display:none;\">\n",
              "\n",
              "<svg xmlns=\"http://www.w3.org/2000/svg\" height=\"24px\"viewBox=\"0 0 24 24\"\n",
              "     width=\"24px\">\n",
              "    <g>\n",
              "        <path d=\"M19 3H5c-1.1 0-2 .9-2 2v14c0 1.1.9 2 2 2h14c1.1 0 2-.9 2-2V5c0-1.1-.9-2-2-2zM9 17H7v-7h2v7zm4 0h-2V7h2v10zm4 0h-2v-4h2v4z\"/>\n",
              "    </g>\n",
              "</svg>\n",
              "  </button>\n",
              "\n",
              "<style>\n",
              "  .colab-df-quickchart {\n",
              "      --bg-color: #E8F0FE;\n",
              "      --fill-color: #1967D2;\n",
              "      --hover-bg-color: #E2EBFA;\n",
              "      --hover-fill-color: #174EA6;\n",
              "      --disabled-fill-color: #AAA;\n",
              "      --disabled-bg-color: #DDD;\n",
              "  }\n",
              "\n",
              "  [theme=dark] .colab-df-quickchart {\n",
              "      --bg-color: #3B4455;\n",
              "      --fill-color: #D2E3FC;\n",
              "      --hover-bg-color: #434B5C;\n",
              "      --hover-fill-color: #FFFFFF;\n",
              "      --disabled-bg-color: #3B4455;\n",
              "      --disabled-fill-color: #666;\n",
              "  }\n",
              "\n",
              "  .colab-df-quickchart {\n",
              "    background-color: var(--bg-color);\n",
              "    border: none;\n",
              "    border-radius: 50%;\n",
              "    cursor: pointer;\n",
              "    display: none;\n",
              "    fill: var(--fill-color);\n",
              "    height: 32px;\n",
              "    padding: 0;\n",
              "    width: 32px;\n",
              "  }\n",
              "\n",
              "  .colab-df-quickchart:hover {\n",
              "    background-color: var(--hover-bg-color);\n",
              "    box-shadow: 0 1px 2px rgba(60, 64, 67, 0.3), 0 1px 3px 1px rgba(60, 64, 67, 0.15);\n",
              "    fill: var(--button-hover-fill-color);\n",
              "  }\n",
              "\n",
              "  .colab-df-quickchart-complete:disabled,\n",
              "  .colab-df-quickchart-complete:disabled:hover {\n",
              "    background-color: var(--disabled-bg-color);\n",
              "    fill: var(--disabled-fill-color);\n",
              "    box-shadow: none;\n",
              "  }\n",
              "\n",
              "  .colab-df-spinner {\n",
              "    border: 2px solid var(--fill-color);\n",
              "    border-color: transparent;\n",
              "    border-bottom-color: var(--fill-color);\n",
              "    animation:\n",
              "      spin 1s steps(1) infinite;\n",
              "  }\n",
              "\n",
              "  @keyframes spin {\n",
              "    0% {\n",
              "      border-color: transparent;\n",
              "      border-bottom-color: var(--fill-color);\n",
              "      border-left-color: var(--fill-color);\n",
              "    }\n",
              "    20% {\n",
              "      border-color: transparent;\n",
              "      border-left-color: var(--fill-color);\n",
              "      border-top-color: var(--fill-color);\n",
              "    }\n",
              "    30% {\n",
              "      border-color: transparent;\n",
              "      border-left-color: var(--fill-color);\n",
              "      border-top-color: var(--fill-color);\n",
              "      border-right-color: var(--fill-color);\n",
              "    }\n",
              "    40% {\n",
              "      border-color: transparent;\n",
              "      border-right-color: var(--fill-color);\n",
              "      border-top-color: var(--fill-color);\n",
              "    }\n",
              "    60% {\n",
              "      border-color: transparent;\n",
              "      border-right-color: var(--fill-color);\n",
              "    }\n",
              "    80% {\n",
              "      border-color: transparent;\n",
              "      border-right-color: var(--fill-color);\n",
              "      border-bottom-color: var(--fill-color);\n",
              "    }\n",
              "    90% {\n",
              "      border-color: transparent;\n",
              "      border-bottom-color: var(--fill-color);\n",
              "    }\n",
              "  }\n",
              "</style>\n",
              "\n",
              "  <script>\n",
              "    async function quickchart(key) {\n",
              "      const quickchartButtonEl =\n",
              "        document.querySelector('#' + key + ' button');\n",
              "      quickchartButtonEl.disabled = true;  // To prevent multiple clicks.\n",
              "      quickchartButtonEl.classList.add('colab-df-spinner');\n",
              "      try {\n",
              "        const charts = await google.colab.kernel.invokeFunction(\n",
              "            'suggestCharts', [key], {});\n",
              "      } catch (error) {\n",
              "        console.error('Error during call to suggestCharts:', error);\n",
              "      }\n",
              "      quickchartButtonEl.classList.remove('colab-df-spinner');\n",
              "      quickchartButtonEl.classList.add('colab-df-quickchart-complete');\n",
              "    }\n",
              "    (() => {\n",
              "      let quickchartButtonEl =\n",
              "        document.querySelector('#df-230a95b0-5e35-4f52-9dec-4e4d6e8cfe5d button');\n",
              "      quickchartButtonEl.style.display =\n",
              "        google.colab.kernel.accessAllowed ? 'block' : 'none';\n",
              "    })();\n",
              "  </script>\n",
              "</div>\n",
              "\n",
              "    </div>\n",
              "  </div>\n"
            ],
            "application/vnd.google.colaboratory.intrinsic+json": {
              "type": "dataframe",
              "summary": "{\n  \"name\": \"d1\",\n  \"rows\": 3,\n  \"fields\": [\n    {\n      \"column\": \"employee name\",\n      \"properties\": {\n        \"dtype\": \"string\",\n        \"num_unique_values\": 2,\n        \"samples\": [\n          \"Bob\",\n          \"Alice\"\n        ],\n        \"semantic_type\": \"\",\n        \"description\": \"\"\n      }\n    },\n    {\n      \"column\": \"years worked\",\n      \"properties\": {\n        \"dtype\": \"string\",\n        \"num_unique_values\": 3,\n        \"samples\": [\n          \"2012-2013\",\n          \"2014-2015\"\n        ],\n        \"semantic_type\": \"\",\n        \"description\": \"\"\n      }\n    },\n    {\n      \"column\": \"company worked for\",\n      \"properties\": {\n        \"dtype\": \"string\",\n        \"num_unique_values\": 3,\n        \"samples\": [\n          \"Company A\",\n          \"Company B\"\n        ],\n        \"semantic_type\": \"\",\n        \"description\": \"\"\n      }\n    }\n  ]\n}"
            }
          },
          "metadata": {},
          "execution_count": 15
        }
      ]
    },
    {
      "cell_type": "markdown",
      "source": [
        "4) Given an integer array nums where some elements appear twice and others appear once, return an array of all the duplicates. You must write a solution with a linear runtime complexity."
      ],
      "metadata": {
        "id": "Qr8X_XBhSlQY"
      }
    },
    {
      "cell_type": "code",
      "source": [
        "def findDuplicates(nums):\n",
        "    res = []\n",
        "    for num in nums:\n",
        "        if nums[abs(num) - 1] < 0:\n",
        "            res.append(abs(num))\n",
        "        else:\n",
        "            nums[abs(num) - 1] *= -1\n",
        "    return res\n",
        "\n",
        "nums = [4, 3, 2, 7, 8, 2, 3, 1]\n",
        "print(findDuplicates(nums))  # Output: [2, 3]"
      ],
      "metadata": {
        "id": "2f57y13oT_2a",
        "colab": {
          "base_uri": "https://localhost:8080/"
        },
        "outputId": "e7fa4433-edbc-42e8-cdb4-6909567349db"
      },
      "execution_count": null,
      "outputs": [
        {
          "output_type": "stream",
          "name": "stdout",
          "text": [
            "[2, 3]\n"
          ]
        }
      ]
    },
    {
      "cell_type": "code",
      "source": [
        "def findDuplicates(nums):\n",
        "    res = []\n",
        "    for num in set(nums):  # Use set to avoid checking the same number multiple times\n",
        "        if nums.count(num) > 1:  # Check if the number appears more than once\n",
        "            res.append(num)\n",
        "    return res\n",
        "\n",
        "nums = [4, 3, 2, 7, 8, 2, 3, 1]\n",
        "print(findDuplicates(nums))  # Output: [2, 3]"
      ],
      "metadata": {
        "colab": {
          "base_uri": "https://localhost:8080/"
        },
        "id": "EmjaHWQOSgqI",
        "outputId": "acff8e09-195e-425d-d0be-232f075acd1e"
      },
      "execution_count": null,
      "outputs": [
        {
          "output_type": "stream",
          "name": "stdout",
          "text": [
            "[2, 3]\n"
          ]
        }
      ]
    },
    {
      "cell_type": "markdown",
      "source": [
        "5) Given a sorted array nums, remove the duplicates in place such that each element appears only once and return the new length of the array."
      ],
      "metadata": {
        "id": "k1TqRDPDUQfG"
      }
    },
    {
      "cell_type": "code",
      "source": [
        "def removeDuplicates(nums):\n",
        "    unique_nums = sorted(set(nums))  # Get unique elements and sort them\n",
        "    nums[:len(unique_nums)] = unique_nums  # Update nums in place\n",
        "    return len(unique_nums)\n",
        "\n",
        "nums = [0, 0, 1, 1, 1, 2, 2, 3, 3, 4]\n",
        "print(removeDuplicates(nums))  # Output: 5\n",
        "print(nums[:5])  # nums[:5] reflects the unique elements: [0, 1, 2, 3, 4]"
      ],
      "metadata": {
        "colab": {
          "base_uri": "https://localhost:8080/"
        },
        "id": "113WW0y9ShQy",
        "outputId": "e91d433e-0a08-4ff1-d26b-2f8cb0b73e6c"
      },
      "execution_count": null,
      "outputs": [
        {
          "output_type": "stream",
          "name": "stdout",
          "text": [
            "5\n",
            "[0, 1, 2, 3, 4]\n"
          ]
        }
      ]
    },
    {
      "cell_type": "code",
      "source": [
        "l1 = [0, 0, 1, 1, 1, 2, 2, 3, 3, 4]\n",
        "l1 = sorted(list(set(l1)))\n",
        "print(l1, len(l1))"
      ],
      "metadata": {
        "colab": {
          "base_uri": "https://localhost:8080/"
        },
        "id": "XR5OUYMlUVID",
        "outputId": "85a53a2e-0041-4628-8a22-0f99de8a20c2"
      },
      "execution_count": null,
      "outputs": [
        {
          "output_type": "stream",
          "name": "stdout",
          "text": [
            "[0, 1, 2, 3, 4] 5\n"
          ]
        }
      ]
    },
    {
      "cell_type": "code",
      "source": [
        "def removeDuplicates(nums):\n",
        "    j = 0\n",
        "    for i in range(1, len(nums)):\n",
        "        if nums[i] != nums[j]:\n",
        "            j += 1\n",
        "            nums[j] = nums[i]\n",
        "    return j + 1\n",
        "\n",
        "nums = [0, 0, 1, 1, 1, 2, 2, 3, 3, 4]\n",
        "print(removeDuplicates(nums))  # Output: 5\n",
        "print(nums[:5])  # Output: [0, 1, 2, 3, 4]"
      ],
      "metadata": {
        "colab": {
          "base_uri": "https://localhost:8080/"
        },
        "id": "EA9rl9r_VBd6",
        "outputId": "20b5512f-6869-46e7-ad45-0f50c9f217d7"
      },
      "execution_count": null,
      "outputs": [
        {
          "output_type": "stream",
          "name": "stdout",
          "text": [
            "5\n",
            "[0, 1, 2, 3, 4]\n"
          ]
        }
      ]
    },
    {
      "cell_type": "code",
      "source": [
        "def removeDuplicates(nums):\n",
        "    unique_nums = []  # Initialize an empty list to store unique elements\n",
        "    for i in nums:\n",
        "        if i not in unique_nums:  # Check if the current element is not already in the list\n",
        "            unique_nums.append(i)  # Append the unique element\n",
        "    print(len(unique_nums), unique_nums)   # Return the length and the unique list\n",
        "\n",
        "nums = [0, 0, 1, 1, 1, 2, 2, 3, 3, 4]\n",
        "removeDuplicates(nums)"
      ],
      "metadata": {
        "colab": {
          "base_uri": "https://localhost:8080/"
        },
        "id": "OQYHFxtZWo2w",
        "outputId": "c85f7ebe-7a5a-47da-afec-9436f4090fbc"
      },
      "execution_count": null,
      "outputs": [
        {
          "output_type": "stream",
          "name": "stdout",
          "text": [
            "5 [0, 1, 2, 3, 4]\n"
          ]
        }
      ]
    },
    {
      "cell_type": "code",
      "source": [
        "def removeDuplicates(nums):\n",
        "    unique_nums = []  # Initialize an empty list to store unique elements\n",
        "    for i in nums:\n",
        "        if i not in unique_nums:  # Check if the current element is not already in the list\n",
        "            unique_nums.append(i)  # Append the unique element\n",
        "    print(len(unique_nums))  # Print the length of the unique elements\n",
        "    print(unique_nums)  # Print the unique list\n",
        "\n",
        "# Take input from the user as a comma-separated string of numbers\n",
        "nums = list(input(\"Enter a list of numbers separated by commas: \").split(','))\n",
        "removeDuplicates(nums)"
      ],
      "metadata": {
        "colab": {
          "base_uri": "https://localhost:8080/"
        },
        "id": "06WtglReXIWp",
        "outputId": "c4bab5c5-8827-4753-82f7-ffbe9ce60e34"
      },
      "execution_count": null,
      "outputs": [
        {
          "output_type": "stream",
          "name": "stdout",
          "text": [
            "Enter a list of numbers separated by commas: 1,1,3,6,99\n",
            "4\n",
            "['1', '3', '6', '99']\n"
          ]
        }
      ]
    },
    {
      "cell_type": "markdown",
      "source": [
        "6) Given an array of strings, group the anagrams together. You can return the answer in any order.\n",
        "\n",
        "Example Input:\n",
        "strs = [\"eat\", \"tea\", \"tan\", \"ate\", \"nat\", \"bat\"]\n",
        "\n",
        "Example Output:\n",
        "[[\"eat\", \"tea\", \"ate\"], [\"tan\", \"nat\"], [\"bat\"]]"
      ],
      "metadata": {
        "id": "x5XgXf2Ba4t6"
      }
    },
    {
      "cell_type": "code",
      "source": [
        "def groupAnagrams(strs):\n",
        "    anagrams = {}\n",
        "    for word in strs:\n",
        "        sorted_word = ''.join(sorted(word))\n",
        "        if sorted_word in anagrams:\n",
        "            anagrams[sorted_word].append(word)\n",
        "        else:\n",
        "            anagrams[sorted_word] = [word]\n",
        "    return list(anagrams.values())\n",
        "\n",
        "strs = [\"eat\", \"tea\", \"tan\", \"ate\", \"nat\", \"bat\"]\n",
        "print(groupAnagrams(strs))  # Output: [[\"eat\", \"tea\", \"ate\"], [\"tan\", \"nat\"], [\"bat\"]]"
      ],
      "metadata": {
        "colab": {
          "base_uri": "https://localhost:8080/"
        },
        "id": "Uv28dMDkYZ2h",
        "outputId": "6776b886-380a-4583-fc3e-94affd7f5f67"
      },
      "execution_count": null,
      "outputs": [
        {
          "output_type": "stream",
          "name": "stdout",
          "text": [
            "[['eat', 'tea', 'ate'], ['tan', 'nat'], ['bat']]\n"
          ]
        }
      ]
    },
    {
      "cell_type": "code",
      "source": [
        "def groupAnagrams(strs):\n",
        "    anagrams = {}\n",
        "    for i in strs:\n",
        "        sorted_word = ''.join(sorted(i))\n",
        "        if sorted_word in anagrams:\n",
        "            anagrams[sorted_word].append(i)\n",
        "        else:\n",
        "            anagrams[sorted_word] = [i]\n",
        "    return list(anagrams.values())\n",
        "\n",
        "strs = [\"eat\", \"tea\", \"tan\", \"ate\", \"nat\", \"bat\"]\n",
        "print(groupAnagrams(strs))  # Output: [[\"eat\", \"tea\", \"ate\"], [\"tan\", \"nat\"], [\"bat\"]]"
      ],
      "metadata": {
        "colab": {
          "base_uri": "https://localhost:8080/"
        },
        "id": "RDpuh4x8ZUh2",
        "outputId": "a9911543-cf60-478f-e0ce-c360e78cc65d"
      },
      "execution_count": null,
      "outputs": [
        {
          "output_type": "stream",
          "name": "stdout",
          "text": [
            "[['eat', 'tea', 'ate'], ['tan', 'nat'], ['bat']]\n"
          ]
        }
      ]
    },
    {
      "cell_type": "code",
      "source": [
        "strs = [\"eat\", \"tea\", \"tan\", \"ate\", \"nat\", \"bat\"]\n",
        "for i in strs:\n",
        "  sorted_word = ''.join(sorted(i))\n",
        "  print(sorted_word)"
      ],
      "metadata": {
        "colab": {
          "base_uri": "https://localhost:8080/"
        },
        "id": "GCRj__EzZa5N",
        "outputId": "8a25de89-68d7-45bd-b404-f0ba92d94503"
      },
      "execution_count": null,
      "outputs": [
        {
          "output_type": "stream",
          "name": "stdout",
          "text": [
            "aet\n",
            "aet\n",
            "ant\n",
            "aet\n",
            "ant\n",
            "abt\n"
          ]
        }
      ]
    },
    {
      "cell_type": "markdown",
      "source": [
        "7) Given two integer arrays nums1 and nums2, return an array of their intersection. Each element in the result must be unique."
      ],
      "metadata": {
        "id": "lUrb6TbmbAuS"
      }
    },
    {
      "cell_type": "code",
      "source": [
        "def intersection(nums1, nums2):\n",
        "    return list(set(nums1) & set(nums2))\n",
        "\n",
        "nums1 = [4, 9, 5]\n",
        "nums2 = [9, 4, 9, 8, 4]\n",
        "print(intersection(nums1, nums2))  # Output: [4, 9]"
      ],
      "metadata": {
        "colab": {
          "base_uri": "https://localhost:8080/"
        },
        "id": "xAGZ-e-EZgyc",
        "outputId": "64b9fcf7-e546-4b3d-f7cb-d6f099a0f99b"
      },
      "execution_count": null,
      "outputs": [
        {
          "output_type": "stream",
          "name": "stdout",
          "text": [
            "[9, 4]\n"
          ]
        }
      ]
    },
    {
      "cell_type": "markdown",
      "source": [
        "8) Question: You have two datasets:\n",
        "\n",
        "df1: Contains Employee ID, Name, and Salary.\n",
        "\n",
        "df2: Contains Employee ID, Department, and Location.\n",
        "\n",
        "You need to merge both datasets on the Employee ID column to get a new dataset with all the information combined."
      ],
      "metadata": {
        "id": "_274Mgg8kTjp"
      }
    },
    {
      "cell_type": "code",
      "source": [
        "import pandas as pd\n",
        "\n",
        "# Sample dataframes\n",
        "df1 = pd.DataFrame({\n",
        "    'Employee ID': [1, 2, 3, 4],\n",
        "    'Name': ['Alice', 'Bob', 'Charlie', 'David'],\n",
        "    'Salary': [50000, 60000, 55000, 45000]\n",
        "})\n",
        "\n",
        "df2 = pd.DataFrame({\n",
        "    'Employee ID': [1, 2, 3, 5],\n",
        "    'Department': ['HR', 'Finance', 'Engineering', 'Marketing'],\n",
        "    'Location': ['New York', 'London', 'San Francisco', 'Berlin']\n",
        "})\n",
        "\n",
        "# Merge dataframes on 'Employee ID'\n",
        "merged_df = pd.merge(df1, df2, on='Employee ID', how='left')\n",
        "print(merged_df)"
      ],
      "metadata": {
        "colab": {
          "base_uri": "https://localhost:8080/"
        },
        "id": "pF8JJMa3dR25",
        "outputId": "bc32a834-cd09-4cca-eabb-1a1ce32b5167"
      },
      "execution_count": null,
      "outputs": [
        {
          "output_type": "stream",
          "name": "stdout",
          "text": [
            "   Employee ID     Name  Salary   Department       Location\n",
            "0            1    Alice   50000           HR       New York\n",
            "1            2      Bob   60000      Finance         London\n",
            "2            3  Charlie   55000  Engineering  San Francisco\n",
            "3            4    David   45000          NaN            NaN\n"
          ]
        }
      ]
    },
    {
      "cell_type": "markdown",
      "source": [
        "9) You have a dataset of Sales with the columns Date, Product, and Revenue. You need to calculate the total revenue by Product for each month."
      ],
      "metadata": {
        "id": "5udBG65Ukx7N"
      }
    },
    {
      "cell_type": "code",
      "source": [
        "import pandas as pd\n",
        "\n",
        "# Sample sales data\n",
        "df = pd.DataFrame({\n",
        "    'Date': ['2022-01-15', '2022-01-16', '2022-02-17', '2022-02-18', '2022-03-19'],\n",
        "    'Product': ['A', 'B', 'A', 'B', 'A'],\n",
        "    'Revenue': [500, 300, 400, 350, 600]\n",
        "})\n",
        "\n",
        "# Convert 'Date' to datetime format\n",
        "df['Date'] = pd.to_datetime(df['Date'])\n",
        "\n",
        "# Extract the month and year from 'Date'\n",
        "df['Month'] = df['Date'].dt.to_period('M')\n",
        "\n",
        "# Group by 'Month' and 'Product' and calculate the sum of 'Revenue'\n",
        "revenue_by_product = df.groupby(['Month', 'Product'])['Revenue'].sum().reset_index()\n",
        "print(revenue_by_product)"
      ],
      "metadata": {
        "colab": {
          "base_uri": "https://localhost:8080/"
        },
        "id": "fw6wSdjLkQQE",
        "outputId": "5a2d7055-8089-4b9f-f895-068d065f42de"
      },
      "execution_count": null,
      "outputs": [
        {
          "output_type": "stream",
          "name": "stdout",
          "text": [
            "     Month Product  Revenue\n",
            "0  2022-01       A      500\n",
            "1  2022-01       B      300\n",
            "2  2022-02       A      400\n",
            "3  2022-02       B      350\n",
            "4  2022-03       A      600\n"
          ]
        }
      ]
    },
    {
      "cell_type": "markdown",
      "source": [
        "The ***dt.to_period('M')*** method in Pandas is used to convert a datetime column into a Period object representing the month or another specified frequency. This is useful when you want to group data by a specific time period, such as months or years, and work with a more abstract representation of time that focuses on that period rather than individual dates.\n",
        "\n",
        "More examples of period conversion with dt.to_period():\n",
        "\n",
        "'D': Daily period.\n",
        "\n",
        "'M': Monthly period.\n",
        "\n",
        "'Q': Quarterly period.\n",
        "\n",
        "'A': Annual period (Yearly).\n",
        "\n",
        "'H': Hourly period."
      ],
      "metadata": {
        "id": "Z7qsiNREBNAj"
      }
    },
    {
      "cell_type": "markdown",
      "source": [
        "The ***reset_index()*** method in Pandas is used to reset the index of a DataFrame. When you perform operations like groupby(), sort_values(), or other manipulations that change the structure of the DataFrame, the index might become non-sequential or multi-level. The reset_index() method restores the index back to the default integer index, starting from 0."
      ],
      "metadata": {
        "id": "71UPCwg_CXRf"
      }
    },
    {
      "cell_type": "code",
      "source": [
        "df['Date']\n",
        "df['Month']"
      ],
      "metadata": {
        "colab": {
          "base_uri": "https://localhost:8080/",
          "height": 241
        },
        "id": "qbwD2QBQk0nJ",
        "outputId": "6fceabc3-2d6a-4926-82ba-ee15edeea0cc"
      },
      "execution_count": null,
      "outputs": [
        {
          "output_type": "execute_result",
          "data": {
            "text/plain": [
              "0    2022-01\n",
              "1    2022-01\n",
              "2    2022-02\n",
              "3    2022-02\n",
              "4    2022-03\n",
              "Name: Month, dtype: period[M]"
            ],
            "text/html": [
              "<div>\n",
              "<style scoped>\n",
              "    .dataframe tbody tr th:only-of-type {\n",
              "        vertical-align: middle;\n",
              "    }\n",
              "\n",
              "    .dataframe tbody tr th {\n",
              "        vertical-align: top;\n",
              "    }\n",
              "\n",
              "    .dataframe thead th {\n",
              "        text-align: right;\n",
              "    }\n",
              "</style>\n",
              "<table border=\"1\" class=\"dataframe\">\n",
              "  <thead>\n",
              "    <tr style=\"text-align: right;\">\n",
              "      <th></th>\n",
              "      <th>Month</th>\n",
              "    </tr>\n",
              "  </thead>\n",
              "  <tbody>\n",
              "    <tr>\n",
              "      <th>0</th>\n",
              "      <td>2022-01</td>\n",
              "    </tr>\n",
              "    <tr>\n",
              "      <th>1</th>\n",
              "      <td>2022-01</td>\n",
              "    </tr>\n",
              "    <tr>\n",
              "      <th>2</th>\n",
              "      <td>2022-02</td>\n",
              "    </tr>\n",
              "    <tr>\n",
              "      <th>3</th>\n",
              "      <td>2022-02</td>\n",
              "    </tr>\n",
              "    <tr>\n",
              "      <th>4</th>\n",
              "      <td>2022-03</td>\n",
              "    </tr>\n",
              "  </tbody>\n",
              "</table>\n",
              "</div><br><label><b>dtype:</b> period[M]</label>"
            ]
          },
          "metadata": {},
          "execution_count": 49
        }
      ]
    },
    {
      "cell_type": "markdown",
      "source": [
        "10) How to extract only the month from the dataset?"
      ],
      "metadata": {
        "id": "AZjp27vl-jJy"
      }
    },
    {
      "cell_type": "code",
      "source": [
        "import pandas as pd\n",
        "\n",
        "# Sample sales data\n",
        "df = pd.DataFrame({\n",
        "    'Date': ['2022-01-15', '2022-01-16', '2022-02-17', '2022-02-18', '2022-03-19'],\n",
        "    'Product': ['A', 'B', 'A', 'B', 'A'],\n",
        "    'Revenue': [500, 300, 400, 350, 600]\n",
        "})\n",
        "\n",
        "# Convert 'Date' to datetime format\n",
        "df['Date'] = pd.to_datetime(df['Date'])\n",
        "# Extract the month from 'Date'\n",
        "df['Month'] = df['Date'].dt.month\n",
        "print(df[['Month']])"
      ],
      "metadata": {
        "colab": {
          "base_uri": "https://localhost:8080/"
        },
        "id": "4bqFcC4vl-cq",
        "outputId": "7359b650-5c33-4163-f807-0b85fe8c0d61"
      },
      "execution_count": null,
      "outputs": [
        {
          "output_type": "stream",
          "name": "stdout",
          "text": [
            "   Month\n",
            "0      1\n",
            "1      1\n",
            "2      2\n",
            "3      2\n",
            "4      3\n"
          ]
        }
      ]
    },
    {
      "cell_type": "markdown",
      "source": [
        "11) Handling Missing Data\n",
        "\n",
        "Question: You have a dataset with missing values in some columns. You need to replace the missing values in the Salary column with the average salary and fill the missing values in the Department column with \"Not Available\"."
      ],
      "metadata": {
        "id": "V_Ma1bS6CsVj"
      }
    },
    {
      "cell_type": "code",
      "source": [
        "import pandas as pd\n",
        "\n",
        "# Sample dataframe with missing values\n",
        "data = pd.DataFrame({\n",
        "    'Employee ID': [1, 2, 3, 4],\n",
        "    'Name': ['Alice', 'Bob', 'Charlie', 'David'],\n",
        "    'Salary': [50000, None, 55000, None],\n",
        "    'Department': ['HR', 'Finance', None, 'Engineering']\n",
        "})\n",
        "\n",
        "# Fill missing values\n",
        "data['Salary'] = data['Salary'].fillna(data['Salary'].mean())\n",
        "data['Department'] = data['Department'].fillna('Not Available')\n",
        "\n",
        "print(data)"
      ],
      "metadata": {
        "colab": {
          "base_uri": "https://localhost:8080/"
        },
        "id": "xCz4058hCv2k",
        "outputId": "0110770e-edaf-4574-a1c7-551814f44339"
      },
      "execution_count": null,
      "outputs": [
        {
          "output_type": "stream",
          "name": "stdout",
          "text": [
            "   Employee ID     Name   Salary     Department\n",
            "0            1    Alice  50000.0             HR\n",
            "1            2      Bob  52500.0        Finance\n",
            "2            3  Charlie  55000.0  Not Available\n",
            "3            4    David  52500.0    Engineering\n"
          ]
        }
      ]
    },
    {
      "cell_type": "markdown",
      "source": [
        "12) Removing Duplicates\n",
        "\n",
        "You have a dataset with duplicate rows, and you want to remove the duplicates based on the Employee ID while keeping the first occurrence."
      ],
      "metadata": {
        "id": "hItMB2jtDnZJ"
      }
    },
    {
      "cell_type": "code",
      "source": [
        "import pandas as pd\n",
        "\n",
        "# Sample dataframe with duplicates\n",
        "data = pd.DataFrame({\n",
        "    'Employee ID': [1, 2, 2, 3, 4, 4],\n",
        "    'Name': ['Alice', 'Bob', 'Bob', 'Charlie', 'David', 'David'],\n",
        "    'Salary': [50000, 60000, 60000, 55000, 45000, 45000]\n",
        "})\n",
        "\n",
        "# Remove duplicates based on 'Employee ID', keep the first occurrence\n",
        "data_unique = data.drop_duplicates(subset='Employee ID', keep='first')\n",
        "print(data_unique)"
      ],
      "metadata": {
        "colab": {
          "base_uri": "https://localhost:8080/"
        },
        "id": "bObWGxPzDGUo",
        "outputId": "ec3f4ee0-6f8e-4add-8de5-042c580afbef"
      },
      "execution_count": null,
      "outputs": [
        {
          "output_type": "stream",
          "name": "stdout",
          "text": [
            "   Employee ID     Name  Salary\n",
            "0            1    Alice   50000\n",
            "1            2      Bob   60000\n",
            "3            3  Charlie   55000\n",
            "4            4    David   45000\n"
          ]
        }
      ]
    },
    {
      "cell_type": "markdown",
      "source": [
        "drop_duplicates() is used to remove duplicate rows based on the Employee ID column. The keep='first' argument ensures that the first occurrence of each unique Employee ID is kept."
      ],
      "metadata": {
        "id": "oKXDTZkjDz7R"
      }
    },
    {
      "cell_type": "markdown",
      "source": [
        "13) Pivoting Data\n",
        "\n",
        "Question: You have a dataset that shows sales by Product and Month. You need to pivot this data to get a table where each column represents a month, and the values show the total sales for each product."
      ],
      "metadata": {
        "id": "pxI23YvmEBLJ"
      }
    },
    {
      "cell_type": "code",
      "source": [
        "import pandas as pd\n",
        "\n",
        "# Sample sales data\n",
        "df = pd.DataFrame({\n",
        "    'Product': ['A', 'B', 'A', 'B', 'A', 'B'],\n",
        "    'Month': ['January', 'January', 'February', 'February', 'March', 'March'],\n",
        "    'Sales': [500, 300, 400, 350, 600, 450]\n",
        "})\n",
        "\n",
        "# Pivot the data to get total sales per product for each month\n",
        "pivoted_data = df.pivot_table(values='Sales', index='Product', columns='Month', aggfunc='sum', fill_value=0)\n",
        "print(pivoted_data)"
      ],
      "metadata": {
        "colab": {
          "base_uri": "https://localhost:8080/"
        },
        "id": "EMoZu2UlDyN1",
        "outputId": "09bc3589-42c3-4d60-a486-ede7480aa1b4"
      },
      "execution_count": null,
      "outputs": [
        {
          "output_type": "stream",
          "name": "stdout",
          "text": [
            "Month    February  January  March\n",
            "Product                          \n",
            "A             400      500    600\n",
            "B             350      300    450\n"
          ]
        }
      ]
    },
    {
      "cell_type": "markdown",
      "source": [
        "pivot_table() is used to transform the data so that the rows show products, columns represent months, and the values represent the total sales.\n",
        "\n",
        "aggfunc='sum' ensures that the sales values are summed up for each product and month.\n",
        "\n",
        "fill_value=0 ensures that any missing data is filled with 0."
      ],
      "metadata": {
        "id": "OSNRV5ZlETHe"
      }
    },
    {
      "cell_type": "markdown",
      "source": [
        "14) Sorting Data\n",
        "\n",
        "Question: You have a dataset of employee salaries and you need to sort the employees by their salary in descending order."
      ],
      "metadata": {
        "id": "636hXIWVEZy0"
      }
    },
    {
      "cell_type": "code",
      "source": [
        "import pandas as pd\n",
        "\n",
        "# Sample employee salary data\n",
        "df = pd.DataFrame({\n",
        "    'Employee ID': [1, 2, 3, 4],\n",
        "    'Name': ['Alice', 'Bob', 'Charlie', 'David'],\n",
        "    'Salary': [50000, 60000, 55000, 45000]\n",
        "})\n",
        "\n",
        "# Sort employees by 'Salary' in descending order\n",
        "sorted_data = df.sort_values(by='Salary', ascending=False)\n",
        "print(sorted_data)"
      ],
      "metadata": {
        "colab": {
          "base_uri": "https://localhost:8080/"
        },
        "id": "CqXpB5o7EFkC",
        "outputId": "e58799a4-6059-489f-a066-6c693aefeb11"
      },
      "execution_count": null,
      "outputs": [
        {
          "output_type": "stream",
          "name": "stdout",
          "text": [
            "   Employee ID     Name  Salary\n",
            "1            2      Bob   60000\n",
            "2            3  Charlie   55000\n",
            "0            1    Alice   50000\n",
            "3            4    David   45000\n"
          ]
        }
      ]
    },
    {
      "cell_type": "markdown",
      "source": [
        "15) Valid Anagram\n",
        "\n",
        "Problem: Given two strings s and t, return true if t is an anagram of s, and false otherwise."
      ],
      "metadata": {
        "id": "Jg1CbMBsGZ34"
      }
    },
    {
      "cell_type": "code",
      "source": [
        "def isAnagram(s, t):\n",
        "    return sorted(s) == sorted(t)\n",
        "\n",
        "s = input(\"Enter the first string: \")\n",
        "t = input(\"Enter the second string: \")\n",
        "print(isAnagram(s, t))"
      ],
      "metadata": {
        "colab": {
          "base_uri": "https://localhost:8080/"
        },
        "id": "mQWJUu7sEeur",
        "outputId": "0b7bd581-5c74-4511-8e5d-340fbf5ee489"
      },
      "execution_count": null,
      "outputs": [
        {
          "output_type": "stream",
          "name": "stdout",
          "text": [
            "Enter the first string: alab\n",
            "Enter the second string: bala\n",
            "True\n"
          ]
        }
      ]
    },
    {
      "cell_type": "markdown",
      "source": [
        "16) Find the Missing Number\n",
        "\n",
        "Problem: Given an array of integers nums containing n distinct numbers taken from the range 1 to n+1, find the one that is missing from the array."
      ],
      "metadata": {
        "id": "E-HL85e0H4Qu"
      }
    },
    {
      "cell_type": "code",
      "source": [
        "def findMissingNumber(nums):\n",
        "    n = len(nums)\n",
        "    expected_sum = (n + 1) * (n + 2) // 2  # sum of 1 to n+1\n",
        "    actual_sum = sum(nums)\n",
        "    return expected_sum - actual_sum\n",
        "\n",
        "nums = list(map(int, input(\"Enter the numbers (space-separated): \").split()))\n",
        "print(findMissingNumber(nums))"
      ],
      "metadata": {
        "colab": {
          "base_uri": "https://localhost:8080/"
        },
        "id": "4r3OdM7VHFer",
        "outputId": "2144ef75-a985-4fcd-8deb-f7a0a20da411"
      },
      "execution_count": null,
      "outputs": [
        {
          "output_type": "stream",
          "name": "stdout",
          "text": [
            "Enter the numbers (space-separated): 1 2 4 5\n",
            "3\n"
          ]
        }
      ]
    },
    {
      "cell_type": "markdown",
      "source": [
        "The list of numbers nums will be: [1, 2, 4, 5].\n",
        "\n",
        "The length of the list n is 4.\n",
        "\n",
        "The expected sum for the sequence from 1 to 5 (i.e., 1 + 2 + 3 + 4 + 5) is calculated as 15 using the formula.\n",
        "\n",
        "The actual sum of the numbers in nums is 1 + 2 + 4 + 5 = 12.\n",
        "\n",
        "The missing number is: 15 - 12 = 3."
      ],
      "metadata": {
        "id": "Zm_wLLY3KIRx"
      }
    },
    {
      "cell_type": "markdown",
      "source": [
        "17) Write a function to count the number of vowels in a string."
      ],
      "metadata": {
        "id": "-O4eithstqGB"
      }
    },
    {
      "cell_type": "code",
      "source": [
        "def count_vowels(s):\n",
        "    vowels = \"aeiou\"\n",
        "    count = 0\n",
        "    for i in s:\n",
        "        if i.lower() in vowels:\n",
        "            count = count + 1\n",
        "    return count\n",
        "\n",
        "n = input(\"Enter the String:\")\n",
        "print(count_vowels(n))"
      ],
      "metadata": {
        "id": "pZGmPeztHwhP",
        "colab": {
          "base_uri": "https://localhost:8080/"
        },
        "outputId": "72c49723-5e3b-4129-b78d-bde9db4206bf"
      },
      "execution_count": null,
      "outputs": [
        {
          "output_type": "stream",
          "name": "stdout",
          "text": [
            "Enter the String:bala\n",
            "2\n"
          ]
        }
      ]
    },
    {
      "cell_type": "markdown",
      "source": [
        "18) Write a function to reverse a string without using slicing or built-in functions."
      ],
      "metadata": {
        "id": "qHP3pkKmujZZ"
      }
    },
    {
      "cell_type": "code",
      "source": [
        "def reverse_string(s):\n",
        "    rev_str = \"\"\n",
        "    for i in s:\n",
        "        rev_str = i + rev_str\n",
        "    return rev_str\n",
        "\n",
        "print(reverse_string(\"hello\"))"
      ],
      "metadata": {
        "colab": {
          "base_uri": "https://localhost:8080/"
        },
        "id": "hCNJaXAVuBsv",
        "outputId": "e88d94e1-609c-4a94-9367-8e460e0c8d56"
      },
      "execution_count": null,
      "outputs": [
        {
          "output_type": "stream",
          "name": "stdout",
          "text": [
            "olleh\n"
          ]
        }
      ]
    },
    {
      "cell_type": "markdown",
      "source": [
        "19) Write a function to remove duplicates from a string, keeping the order of characters intact."
      ],
      "metadata": {
        "id": "HEvrTQYMUZjn"
      }
    },
    {
      "cell_type": "code",
      "source": [
        "def remove_duplicates(s):\n",
        "    result = \"\"\n",
        "    for i in s:\n",
        "        if i not in result:\n",
        "            result = result + i\n",
        "    return result\n",
        "\n",
        "print(remove_duplicates(\"aabbcc\"))"
      ],
      "metadata": {
        "colab": {
          "base_uri": "https://localhost:8080/"
        },
        "id": "oAuk1jvdunN2",
        "outputId": "ef9887a0-59a3-447a-e4a7-35b764b89d38"
      },
      "execution_count": null,
      "outputs": [
        {
          "output_type": "stream",
          "name": "stdout",
          "text": [
            "abc\n"
          ]
        }
      ]
    },
    {
      "cell_type": "markdown",
      "source": [
        "20) Write a function to find the first non-repeating character in a string."
      ],
      "metadata": {
        "id": "mTk6O2XqUv1J"
      }
    },
    {
      "cell_type": "code",
      "source": [
        "def first_non_repeating(s):\n",
        "    for i in s:\n",
        "        if s.count(i) == 1:\n",
        "            return i\n",
        "    return None\n",
        "\n",
        "print(first_non_repeating(\"bbaaij\"))"
      ],
      "metadata": {
        "colab": {
          "base_uri": "https://localhost:8080/"
        },
        "id": "xW10MC2zUc1M",
        "outputId": "87c17238-b101-4cac-bffb-497d5752b84f"
      },
      "execution_count": null,
      "outputs": [
        {
          "output_type": "stream",
          "name": "stdout",
          "text": [
            "i\n"
          ]
        }
      ]
    },
    {
      "cell_type": "markdown",
      "source": [
        "21) Write a function to check if a string is a pangram (contains every letter of the alphabet at least once)."
      ],
      "metadata": {
        "id": "J1uh7_m3VVDQ"
      }
    },
    {
      "cell_type": "code",
      "source": [
        "def is_pangram(s):\n",
        "    return set('abcdefghijklmnopqrstuvwxyz') <= set(s.lower())\n",
        "\n",
        "print(is_pangram(\"The quick brown fox jumps over the lazy dog\"))"
      ],
      "metadata": {
        "colab": {
          "base_uri": "https://localhost:8080/"
        },
        "id": "GzMo34TnUyAq",
        "outputId": "1a640715-c41e-4fc9-863a-cfb37b48b70a"
      },
      "execution_count": null,
      "outputs": [
        {
          "output_type": "stream",
          "name": "stdout",
          "text": [
            "True\n"
          ]
        }
      ]
    },
    {
      "cell_type": "markdown",
      "source": [
        "22)  Write a function to count the number of occurrences of a specific character in a string."
      ],
      "metadata": {
        "id": "Oddyu-4SVn26"
      }
    },
    {
      "cell_type": "code",
      "source": [
        "def count_char(s, char):\n",
        "    return s.count(char)\n",
        "\n",
        "print(count_char(\"hello\", \"l\"))"
      ],
      "metadata": {
        "colab": {
          "base_uri": "https://localhost:8080/"
        },
        "id": "oTHD-CmdVW6d",
        "outputId": "9be57b86-974c-4276-d63b-7159416fcdfe"
      },
      "execution_count": null,
      "outputs": [
        {
          "output_type": "stream",
          "name": "stdout",
          "text": [
            "2\n"
          ]
        }
      ]
    },
    {
      "cell_type": "markdown",
      "source": [
        "23) Write a function to handle missing values in a pandas DataFrame."
      ],
      "metadata": {
        "id": "VfabnZdHvrHi"
      }
    },
    {
      "cell_type": "code",
      "source": [
        "import pandas as pd\n",
        "\n",
        "def handle_missing_data(df):\n",
        "    # Fill missing values with the mean for numeric columns\n",
        "    for i in df.select_dtypes(include='number').columns:\n",
        "        df[i] = df[i].fillna(df[i].mean())\n",
        "\n",
        "    # Fill missing values with the mode for categorical columns\n",
        "    for i in df.select_dtypes(include='object').columns:\n",
        "        df[i] = df[i].fillna(df[i].mode()[0])\n",
        "    return df\n",
        "\n",
        "# Example\n",
        "data = {'A': [1, None, 3], 'B': [4, 5, None], 'C': ['X', None, 'Z']}\n",
        "df = pd.DataFrame(data)\n",
        "print(handle_missing_data(df))"
      ],
      "metadata": {
        "id": "TUtlTLYKVrFN",
        "colab": {
          "base_uri": "https://localhost:8080/"
        },
        "outputId": "cce11a6b-7705-439a-b320-2dc9fa1de7cb"
      },
      "execution_count": null,
      "outputs": [
        {
          "output_type": "stream",
          "name": "stdout",
          "text": [
            "     A    B  C\n",
            "0  1.0  4.0  X\n",
            "1  2.0  5.0  X\n",
            "2  3.0  4.5  Z\n"
          ]
        }
      ]
    },
    {
      "cell_type": "markdown",
      "source": [
        "24) Explain and demonstrate the difference between shallow copy and deepcopy with an example."
      ],
      "metadata": {
        "id": "6Yg0TeuCx12h"
      }
    },
    {
      "cell_type": "code",
      "source": [
        "import copy\n",
        "\n",
        "original = [[1, 2], [3, 4]]  # A nested list\n",
        "\n",
        "shallow = copy.copy(original)  # Shallow copy\n",
        "deep = copy.deepcopy(original)  # Deep copy\n",
        "\n",
        "# Modify the first element of the first nested list\n",
        "original[0][0] = 99\n",
        "\n",
        "print(\"Original:\", original)  # [[99, 2], [3, 4]]\n",
        "print(\"Shallow Copy:\", shallow)  # [[99, 2], [3, 4]] (reflects the change)\n",
        "print(\"Deep Copy:\", deep)  # [[1, 2], [3, 4]] (remains unchanged)"
      ],
      "metadata": {
        "colab": {
          "base_uri": "https://localhost:8080/"
        },
        "id": "x5PVSF-Jvw0f",
        "outputId": "59c4a5a9-a397-4ec7-a51e-00d79bd22c10"
      },
      "execution_count": null,
      "outputs": [
        {
          "output_type": "stream",
          "name": "stdout",
          "text": [
            "Original: [[99, 2], [3, 4]]\n",
            "Shallow Copy: [[99, 2], [3, 4]]\n",
            "Deep Copy: [[1, 2], [3, 4]]\n"
          ]
        }
      ]
    },
    {
      "cell_type": "markdown",
      "source": [
        "Shallow Copy: Reflects changes made to the original nested objects because they share the same reference.\n",
        "\n",
        "Deep Copy: Retains the original state of the copied data and does not reflect changes made to the original, even in nested objects.\n",
        "\n",
        "A deep copy is a completely independent copy of the original, including all nested objects.\n",
        "\n",
        "Changes made to the original (whether to nested or outer objects) will not affect the deep copy because it does not share references with the original."
      ],
      "metadata": {
        "id": "8ZOL7F70zHET"
      }
    },
    {
      "cell_type": "markdown",
      "source": [
        "25) Explain the difference between is and == in Python"
      ],
      "metadata": {
        "id": "N851Zebo1As5"
      }
    },
    {
      "cell_type": "code",
      "source": [
        "a = [1, 2, 3]\n",
        "b = [1, 2, 3]\n",
        "print(a == b)  # True (values are the same)\n",
        "print(a is b)  # False (different memory locations)"
      ],
      "metadata": {
        "colab": {
          "base_uri": "https://localhost:8080/"
        },
        "id": "mNhGNVYmzD-w",
        "outputId": "f64964c9-16dd-487a-da72-dd9dcfee469f"
      },
      "execution_count": null,
      "outputs": [
        {
          "output_type": "stream",
          "name": "stdout",
          "text": [
            "True\n",
            "False\n"
          ]
        }
      ]
    },
    {
      "cell_type": "markdown",
      "source": [
        "is: Compares object identity (whether two objects are the same in memory).\n",
        "\n",
        "==: Compares object values (whether two objects have the same value)."
      ],
      "metadata": {
        "id": "hIqVoP4H1FRQ"
      }
    },
    {
      "cell_type": "markdown",
      "source": [
        "26) Write Python code to find and visualize the correlation between columns"
      ],
      "metadata": {
        "id": "6WvgNiYW1X3A"
      }
    },
    {
      "cell_type": "code",
      "source": [
        "import pandas as pd\n",
        "import seaborn as sns\n",
        "import matplotlib.pyplot as plt\n",
        "\n",
        "def plot_correlation(df):\n",
        "    correlation_matrix = df.corr()\n",
        "    sns.heatmap(correlation_matrix, annot=True, cmap='coolwarm')\n",
        "    plt.show()\n",
        "\n",
        "# Example\n",
        "data = {'A': [1, 2, 3], 'B': [4, 5, 6], 'C': [7, 8, 10]}\n",
        "df = pd.DataFrame(data)\n",
        "plot_correlation(df)"
      ],
      "metadata": {
        "colab": {
          "base_uri": "https://localhost:8080/",
          "height": 435
        },
        "id": "oDC4EmHW1DWe",
        "outputId": "fa8f2786-01bc-4371-ece9-fa4447e1acac"
      },
      "execution_count": null,
      "outputs": [
        {
          "output_type": "display_data",
          "data": {
            "text/plain": [
              "<Figure size 640x480 with 2 Axes>"
            ],
            "image/png": "[encoded data removed]"
          },
          "metadata": {}
        }
      ]
    },
    {
      "cell_type": "code",
      "source": [],
      "metadata": {
        "id": "9OQBeiM11Z1O"
      },
      "execution_count": null,
      "outputs": []
    }
  ]
}