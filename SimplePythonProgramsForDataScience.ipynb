{
  "nbformat": 4,
  "nbformat_minor": 0,
  "metadata": {
    "colab": {
      "provenance": []
    },
    "kernelspec": {
      "name": "python3",
      "display_name": "Python 3"
    },
    "language_info": {
      "name": "python"
    }
  },
  "cells": [
    {
      "cell_type": "markdown",
      "source": [
        "1) Write a Python program to print \"Hello Python\""
      ],
      "metadata": {
        "id": "MUyRGgkiZU3L"
      }
    },
    {
      "cell_type": "code",
      "execution_count": null,
      "metadata": {
        "colab": {
          "base_uri": "https://localhost:8080/"
        },
        "id": "o8tUnROFZF5S",
        "outputId": "1ee9f027-2f28-416b-9caa-f5bb2f16b719"
      },
      "outputs": [
        {
          "output_type": "stream",
          "name": "stdout",
          "text": [
            "Hello Python\n"
          ]
        }
      ],
      "source": [
        "print(\"Hello Python\")"
      ]
    },
    {
      "cell_type": "markdown",
      "source": [
        "2) Write a Python program to do arithmetical operations addition and division."
      ],
      "metadata": {
        "id": "hZWwoGx7Zfa_"
      }
    },
    {
      "cell_type": "code",
      "source": [
        "def addition(n1,n2):\n",
        "  n3 = n1+n2\n",
        "  return n3\n",
        "\n",
        "addition(8,15)"
      ],
      "metadata": {
        "colab": {
          "base_uri": "https://localhost:8080/"
        },
        "id": "FvsnJtsfZY2G",
        "outputId": "0873486f-d2d1-40b2-b660-7df316d23ab3"
      },
      "execution_count": null,
      "outputs": [
        {
          "output_type": "execute_result",
          "data": {
            "text/plain": [
              "23"
            ]
          },
          "metadata": {},
          "execution_count": 2
        }
      ]
    },
    {
      "cell_type": "code",
      "source": [
        "def division(n1,n2):\n",
        "  if n2 == 0:\n",
        "    print(\"Enter a valid denominator, cannot divide by zero!\")\n",
        "  n3 = n1/n2\n",
        "  return n3\n",
        "\n",
        "division(8,3)"
      ],
      "metadata": {
        "colab": {
          "base_uri": "https://localhost:8080/"
        },
        "id": "A0xGk3jyZvZb",
        "outputId": "0b8c658c-4dfa-4620-8621-a36c1d01194b"
      },
      "execution_count": null,
      "outputs": [
        {
          "output_type": "execute_result",
          "data": {
            "text/plain": [
              "2.6666666666666665"
            ]
          },
          "metadata": {},
          "execution_count": 5
        }
      ]
    },
    {
      "cell_type": "markdown",
      "source": [
        "3) Write a Python program to find the area of a triangle."
      ],
      "metadata": {
        "id": "r-vmoGBwaSmw"
      }
    },
    {
      "cell_type": "code",
      "source": [
        "def triangle(b,h):\n",
        "  a = 0.5 *b*h\n",
        "  print(f\"Area of the triangle: {a}\")\n",
        "\n",
        "triangle(4,5)"
      ],
      "metadata": {
        "colab": {
          "base_uri": "https://localhost:8080/"
        },
        "id": "1KNsSrzPaIXv",
        "outputId": "598a6e2b-465e-4dff-be1a-04835fa2d8f6"
      },
      "execution_count": null,
      "outputs": [
        {
          "output_type": "stream",
          "name": "stdout",
          "text": [
            "Area of the triangle: 10.0\n"
          ]
        }
      ]
    },
    {
      "cell_type": "markdown",
      "source": [
        "4) Write a Python program to swap two variables using temp."
      ],
      "metadata": {
        "id": "oNsqsALFara2"
      }
    },
    {
      "cell_type": "code",
      "source": [
        "def swa(a,b):\n",
        "  print(f\"Before Swap: {a,b}\")\n",
        "  temp = a\n",
        "  a = b\n",
        "  b = temp\n",
        "  print(f\"After Swap: {a,b}\")\n",
        "\n",
        "swa(5,6)"
      ],
      "metadata": {
        "colab": {
          "base_uri": "https://localhost:8080/"
        },
        "id": "idRyU9YXahUB",
        "outputId": "97564f36-b38b-493d-d995-cee89b2315e1"
      },
      "execution_count": null,
      "outputs": [
        {
          "output_type": "stream",
          "name": "stdout",
          "text": [
            "Before Swap: (5, 6)\n",
            "After Swap: (6, 5)\n"
          ]
        }
      ]
    },
    {
      "cell_type": "markdown",
      "source": [
        "5) Write a Python program to generate a random number."
      ],
      "metadata": {
        "id": "2kF5TqZPbNqS"
      }
    },
    {
      "cell_type": "code",
      "source": [
        "import random\n",
        "def rand():\n",
        "  return random.randint(1,100)\n",
        "\n",
        "rand()"
      ],
      "metadata": {
        "colab": {
          "base_uri": "https://localhost:8080/"
        },
        "id": "kINHUu3tbAbJ",
        "outputId": "a4a1b301-ccf0-4a6b-90d3-4bf4e586ed86"
      },
      "execution_count": null,
      "outputs": [
        {
          "output_type": "execute_result",
          "data": {
            "text/plain": [
              "10"
            ]
          },
          "metadata": {},
          "execution_count": 11
        }
      ]
    },
    {
      "cell_type": "markdown",
      "source": [
        "6) Write a Python program to convert kilometers to miles."
      ],
      "metadata": {
        "id": "eQVAwsp5biVH"
      }
    },
    {
      "cell_type": "code",
      "source": [
        "def conv(k):\n",
        "  c = 0.621371 #1 km = 0.621371 miles\n",
        "  m = c * k\n",
        "  return m\n",
        "\n",
        "conv(102)"
      ],
      "metadata": {
        "colab": {
          "base_uri": "https://localhost:8080/"
        },
        "id": "egVsRC0sbeGq",
        "outputId": "f5f783d6-36a4-4cd0-e683-c006ee4465fd"
      },
      "execution_count": null,
      "outputs": [
        {
          "output_type": "execute_result",
          "data": {
            "text/plain": [
              "63.379842000000004"
            ]
          },
          "metadata": {},
          "execution_count": 12
        }
      ]
    },
    {
      "cell_type": "markdown",
      "source": [
        "7) Write a Python program to convert Celsius to Fahrenheit."
      ],
      "metadata": {
        "id": "RQp8Wo_Rb-Nk"
      }
    },
    {
      "cell_type": "code",
      "source": [
        "def tem(c):\n",
        "  f = (c * 9/5) + 32 # Conversion formula: Fahrenheit = (Celsius * 9/5) + 32\n",
        "  return f\n",
        "\n",
        "tem(102)"
      ],
      "metadata": {
        "colab": {
          "base_uri": "https://localhost:8080/"
        },
        "id": "7N53RN71b1qZ",
        "outputId": "e14bf3f9-257c-4ff7-9da3-faf67b0dc910"
      },
      "execution_count": null,
      "outputs": [
        {
          "output_type": "execute_result",
          "data": {
            "text/plain": [
              "215.6"
            ]
          },
          "metadata": {},
          "execution_count": 13
        }
      ]
    },
    {
      "cell_type": "markdown",
      "source": [
        "8) Write a Python program to display calendar."
      ],
      "metadata": {
        "id": "a5-r8CKUcULQ"
      }
    },
    {
      "cell_type": "code",
      "source": [
        "import calendar\n",
        "year = int(input(\"Enter year: \"))\n",
        "month = int(input(\"Enter month: \"))\n",
        "cal = calendar.month(year, month)\n",
        "print(cal)"
      ],
      "metadata": {
        "colab": {
          "base_uri": "https://localhost:8080/"
        },
        "id": "45b3T9VOcMw4",
        "outputId": "b7f52163-81ee-425f-913a-232e1dd4f8d4"
      },
      "execution_count": null,
      "outputs": [
        {
          "output_type": "stream",
          "name": "stdout",
          "text": [
            "Enter year: 2024\n",
            "Enter month: 12\n",
            "   December 2024\n",
            "Mo Tu We Th Fr Sa Su\n",
            "                   1\n",
            " 2  3  4  5  6  7  8\n",
            " 9 10 11 12 13 14 15\n",
            "16 17 18 19 20 21 22\n",
            "23 24 25 26 27 28 29\n",
            "30 31\n",
            "\n"
          ]
        }
      ]
    },
    {
      "cell_type": "markdown",
      "source": [
        "9) Write a Python program to swap two variables without temp variable."
      ],
      "metadata": {
        "id": "V2Lliyigcu3O"
      }
    },
    {
      "cell_type": "code",
      "source": [
        "def swa(a,b):\n",
        "  print(f\"Before Swap: {a,b}\")\n",
        "  a, b= b, a\n",
        "  print(f\"After Swap: {a,b}\")\n",
        "\n",
        "swa(5,6)"
      ],
      "metadata": {
        "colab": {
          "base_uri": "https://localhost:8080/"
        },
        "id": "MYBbSiLNcZZE",
        "outputId": "e6ef7c8a-b215-4d69-9bea-3b047e2c21d7"
      },
      "execution_count": null,
      "outputs": [
        {
          "output_type": "stream",
          "name": "stdout",
          "text": [
            "Before Swap: (5, 6)\n",
            "After Swap: (6, 5)\n"
          ]
        }
      ]
    },
    {
      "cell_type": "markdown",
      "source": [
        "10) Write a Python Program to Check if a Number is Positive, Negative or Zero."
      ],
      "metadata": {
        "id": "hikwmcpOc4PH"
      }
    },
    {
      "cell_type": "code",
      "source": [
        "def check(num):\n",
        "  if num > 0:\n",
        "    print(\"Positive\")\n",
        "  elif num == 0:\n",
        "    print(\"Zero\")\n",
        "  else:\n",
        "    print(\"Negative\")\n",
        "\n",
        "check(-5)"
      ],
      "metadata": {
        "colab": {
          "base_uri": "https://localhost:8080/"
        },
        "id": "rbwhTTEPc074",
        "outputId": "7611d480-8984-4ed0-be64-f9a640053227"
      },
      "execution_count": null,
      "outputs": [
        {
          "output_type": "stream",
          "name": "stdout",
          "text": [
            "Negative\n"
          ]
        }
      ]
    },
    {
      "cell_type": "markdown",
      "source": [
        "11) Write a Python Program to Check if a Number is Odd or Even."
      ],
      "metadata": {
        "id": "LBmNJxA-dSiv"
      }
    },
    {
      "cell_type": "code",
      "source": [
        "def chec(n):\n",
        "  if n%2 == 0:\n",
        "    print(\"Even\")\n",
        "  else:\n",
        "    print(\"Odd\")\n",
        "\n",
        "chec(5)"
      ],
      "metadata": {
        "colab": {
          "base_uri": "https://localhost:8080/"
        },
        "id": "SZAzZKnAdNyk",
        "outputId": "c31d1a37-1939-45ac-db6d-3d254eb37c30"
      },
      "execution_count": null,
      "outputs": [
        {
          "output_type": "stream",
          "name": "stdout",
          "text": [
            "Odd\n"
          ]
        }
      ]
    },
    {
      "cell_type": "markdown",
      "source": [
        "12) Write a Python Program to Check Leap Year."
      ],
      "metadata": {
        "id": "xo60EhYGdr3g"
      }
    },
    {
      "cell_type": "code",
      "source": [
        "def is_leap_year(year):\n",
        "    return year % 4 == 0 and (year % 100 != 0 or year % 400 == 0)\n",
        "\n",
        "is_leap_year(2024)"
      ],
      "metadata": {
        "colab": {
          "base_uri": "https://localhost:8080/"
        },
        "id": "DzVdny_TdiTa",
        "outputId": "b3d48c4b-2ccc-4146-98bc-23111e98ef83"
      },
      "execution_count": null,
      "outputs": [
        {
          "output_type": "execute_result",
          "data": {
            "text/plain": [
              "True"
            ]
          },
          "metadata": {},
          "execution_count": 25
        }
      ]
    },
    {
      "cell_type": "markdown",
      "source": [
        "13) Write a Python Program to Check Prime Number."
      ],
      "metadata": {
        "id": "Ev6aby3Me3_c"
      }
    },
    {
      "cell_type": "code",
      "source": [
        "def prime(n):\n",
        "  if n <=1:\n",
        "    return False\n",
        "  for i in range(2,n):\n",
        "    if n%i==0:\n",
        "      return False #If divisible, it's not prime\n",
        "  return True #No divisors found, it's prime\n",
        "\n",
        "prime(17)"
      ],
      "metadata": {
        "colab": {
          "base_uri": "https://localhost:8080/"
        },
        "id": "IMosdffXenw-",
        "outputId": "30860dc6-0c15-4068-e078-fac1cff505a0"
      },
      "execution_count": null,
      "outputs": [
        {
          "output_type": "execute_result",
          "data": {
            "text/plain": [
              "True"
            ]
          },
          "metadata": {},
          "execution_count": 1
        }
      ]
    },
    {
      "cell_type": "markdown",
      "source": [
        "14) Write a Python Program to Print all Prime Numbers in an Interval of 1-10."
      ],
      "metadata": {
        "id": "FfvjLyXAieEw"
      }
    },
    {
      "cell_type": "code",
      "source": [
        "def pri(start, end):\n",
        "    for num in range(start, end + 1):\n",
        "        if num > 1 and all(num % i != 0 for i in range(2, num)):\n",
        "            print(num, end=\" \")\n",
        "\n",
        "pri(1, 10)"
      ],
      "metadata": {
        "colab": {
          "base_uri": "https://localhost:8080/"
        },
        "id": "MahJ8mDxgh_1",
        "outputId": "2c331e48-3d4a-4bef-e33d-e8cfe19b40b5"
      },
      "execution_count": null,
      "outputs": [
        {
          "output_type": "stream",
          "name": "stdout",
          "text": [
            "2 3 5 7 "
          ]
        }
      ]
    },
    {
      "cell_type": "code",
      "source": [
        "# Function to check if a number is prime\n",
        "def prime(n):\n",
        "    if n <= 1:\n",
        "        return False  # Numbers less than or equal to 1 are not prime\n",
        "    for i in range(2, n):\n",
        "        if n % i == 0:\n",
        "            return False  # If divisible, it's not prime\n",
        "    return True  # No divisors found, it's prime\n",
        "\n",
        "# Function to print all prime numbers in a range\n",
        "def print_primes(start, end):\n",
        "    for num in range(start, end + 1):\n",
        "        if prime(num):  # Use the prime function to check\n",
        "            print(num, end=\" \")\n",
        "\n",
        "# Example usage\n",
        "print_primes(1, 10)"
      ],
      "metadata": {
        "colab": {
          "base_uri": "https://localhost:8080/"
        },
        "id": "N1Cm3d5wFsWK",
        "outputId": "a90048d9-070a-4dbb-e960-55c0e7e40699"
      },
      "execution_count": null,
      "outputs": [
        {
          "output_type": "stream",
          "name": "stdout",
          "text": [
            "2 3 5 7 "
          ]
        }
      ]
    },
    {
      "cell_type": "markdown",
      "source": [
        "15) Write a Python Program to Find the Factorial of a Number."
      ],
      "metadata": {
        "id": "omQdW63Fj9Zv"
      }
    },
    {
      "cell_type": "code",
      "source": [
        "def fact(n):\n",
        "  a = 1\n",
        "  for i in range(1, n+1):\n",
        "      a = a*i\n",
        "  return a\n",
        "\n",
        "fact(7)"
      ],
      "metadata": {
        "colab": {
          "base_uri": "https://localhost:8080/"
        },
        "id": "mWRnikENiQ2z",
        "outputId": "a3cf63cd-d56c-4758-8d3b-89c1a8064be4"
      },
      "execution_count": null,
      "outputs": [
        {
          "output_type": "execute_result",
          "data": {
            "text/plain": [
              "5040"
            ]
          },
          "metadata": {},
          "execution_count": 3
        }
      ]
    },
    {
      "cell_type": "code",
      "source": [
        "def fact(n):\n",
        "  a = 1\n",
        "  for i in range(2, n+1):\n",
        "      a = a*i\n",
        "  return a\n",
        "\n",
        "fact(7)"
      ],
      "metadata": {
        "colab": {
          "base_uri": "https://localhost:8080/"
        },
        "id": "6uZ9-4pzEqTr",
        "outputId": "6eab55bb-e9f2-4aa3-ce77-21c8f090cf09"
      },
      "execution_count": null,
      "outputs": [
        {
          "output_type": "execute_result",
          "data": {
            "text/plain": [
              "5040"
            ]
          },
          "metadata": {},
          "execution_count": 2
        }
      ]
    },
    {
      "cell_type": "markdown",
      "source": [
        "16) Write a Python Program to Display the multiplication Table."
      ],
      "metadata": {
        "id": "wvkO3-kQlZ3W"
      }
    },
    {
      "cell_type": "code",
      "source": [
        "def table(num):\n",
        "  for i in range(1, 11):\n",
        "    print(f\"{num} X {i} = {num*i}\")\n",
        "\n",
        "table(12)"
      ],
      "metadata": {
        "colab": {
          "base_uri": "https://localhost:8080/"
        },
        "id": "xwgmAnUJkT39",
        "outputId": "0635eb29-afc0-433d-d845-7059ab4cdc94"
      },
      "execution_count": null,
      "outputs": [
        {
          "output_type": "stream",
          "name": "stdout",
          "text": [
            "12 X 1 = 12\n",
            "12 X 2 = 24\n",
            "12 X 3 = 36\n",
            "12 X 4 = 48\n",
            "12 X 5 = 60\n",
            "12 X 6 = 72\n",
            "12 X 7 = 84\n",
            "12 X 8 = 96\n",
            "12 X 9 = 108\n",
            "12 X 10 = 120\n"
          ]
        }
      ]
    },
    {
      "cell_type": "markdown",
      "source": [
        "17) Write a Python Program to Print the Fibonacci sequence."
      ],
      "metadata": {
        "id": "U-OqdEEGlvOG"
      }
    },
    {
      "cell_type": "code",
      "source": [
        "def fibonacci(n):\n",
        "    a, b = 0, 1\n",
        "    for i in range(n):\n",
        "        print(a, end=\" \")\n",
        "        a, b = b, a + b\n",
        "\n",
        "fibonacci(12)"
      ],
      "metadata": {
        "colab": {
          "base_uri": "https://localhost:8080/"
        },
        "id": "knlRscNylkNp",
        "outputId": "1b09c55c-7701-4867-bee5-27032f0ab064"
      },
      "execution_count": null,
      "outputs": [
        {
          "output_type": "stream",
          "name": "stdout",
          "text": [
            "0 1 1 2 3 5 8 13 21 34 55 89 "
          ]
        }
      ]
    },
    {
      "cell_type": "markdown",
      "source": [
        "18) Write a Python Program to Check Armstrong Number?"
      ],
      "metadata": {
        "id": "SVBEh15-mPeO"
      }
    },
    {
      "cell_type": "code",
      "source": [
        "def is_arm(num):\n",
        "    total = sum(int(i) ** len(str(num)) for i in str(num))\n",
        "    return total == num\n",
        "\n",
        "is_arm(153)"
      ],
      "metadata": {
        "colab": {
          "base_uri": "https://localhost:8080/"
        },
        "id": "-rs-OBcJly5O",
        "outputId": "e04f3daa-f9a0-4e2a-cb6c-9a070dfa972f"
      },
      "execution_count": null,
      "outputs": [
        {
          "output_type": "execute_result",
          "data": {
            "text/plain": [
              "True"
            ]
          },
          "metadata": {},
          "execution_count": 4
        }
      ]
    },
    {
      "cell_type": "markdown",
      "source": [
        "19) Write a Python Program to Find Armstrong Number in an Interval."
      ],
      "metadata": {
        "id": "SBbc5pakocMT"
      }
    },
    {
      "cell_type": "code",
      "source": [
        "def is_armstrong_number(num):\n",
        "    total = sum(int(i) ** len(str(num)) for i in str(num))\n",
        "    return total == num\n",
        "\n",
        "# Function to find Armstrong numbers in an interval\n",
        "def armstrong_in_interval(start, end):\n",
        "    for num in range(start, end + 1):\n",
        "        if is_armstrong_number(num):\n",
        "            print(num, end=\" \")\n",
        "\n",
        "armstrong_in_interval(1, 500)"
      ],
      "metadata": {
        "colab": {
          "base_uri": "https://localhost:8080/"
        },
        "id": "r3xDojXhmXJc",
        "outputId": "681735f6-c4b8-4a42-9e34-282d8d49583d"
      },
      "execution_count": null,
      "outputs": [
        {
          "output_type": "stream",
          "name": "stdout",
          "text": [
            "1 2 3 4 5 6 7 8 9 153 370 371 407 "
          ]
        }
      ]
    },
    {
      "cell_type": "markdown",
      "source": [
        "20) Write a Python Program to Find the Sum of Natural Numbers."
      ],
      "metadata": {
        "id": "_YB5iAaupCny"
      }
    },
    {
      "cell_type": "code",
      "source": [
        "def sum_of_natural_numbers(n):\n",
        "    return sum(range(1, n+1))\n",
        "\n",
        "sum_of_natural_numbers(10)"
      ],
      "metadata": {
        "colab": {
          "base_uri": "https://localhost:8080/"
        },
        "id": "0eTQkeFVoipR",
        "outputId": "0a6c8f0d-5f6f-473d-bb45-70c44ecc5dc8"
      },
      "execution_count": null,
      "outputs": [
        {
          "output_type": "execute_result",
          "data": {
            "text/plain": [
              "55"
            ]
          },
          "metadata": {},
          "execution_count": 67
        }
      ]
    },
    {
      "cell_type": "markdown",
      "source": [
        "21) Write a Python Program to Convert Decimal to Binary, Octal and Hexadecimal."
      ],
      "metadata": {
        "id": "jO_wb4sKrFwu"
      }
    },
    {
      "cell_type": "code",
      "source": [
        "def convert_decimal(num):\n",
        "    binary = bin(num)[2:]  # Convert decimal to binary and remove '0b' prefix\n",
        "    octal = oct(num)[2:]   # Convert decimal to octal and remove '0o' prefix\n",
        "    hexadecimal = hex(num)[2:].upper()  # Convert decimal to hexadecimal and remove '0x' prefix\n",
        "    return binary, octal, hexadecimal\n",
        "\n",
        "binary, octal, hexadecimal = convert_decimal(25)\n",
        "print(\"Binary:\", binary)\n",
        "print(\"Octal:\", octal)\n",
        "print(\"Hexadecimal:\", hexadecimal)"
      ],
      "metadata": {
        "colab": {
          "base_uri": "https://localhost:8080/"
        },
        "id": "DFQQDOxxqtiU",
        "outputId": "029fe314-85ee-4bed-c466-6d105e9a1066"
      },
      "execution_count": null,
      "outputs": [
        {
          "output_type": "stream",
          "name": "stdout",
          "text": [
            "Binary: 11001\n",
            "Octal: 31\n",
            "Hexadecimal: 19\n"
          ]
        }
      ]
    },
    {
      "cell_type": "markdown",
      "source": [
        "22) Write a Python Program To Find ASCII value of a character."
      ],
      "metadata": {
        "id": "gyg4PfiqrbRz"
      }
    },
    {
      "cell_type": "code",
      "source": [
        "def ascii_value(c):\n",
        "    return ord(c)\n",
        "\n",
        "ascii_value('A')"
      ],
      "metadata": {
        "colab": {
          "base_uri": "https://localhost:8080/"
        },
        "id": "Zq_gr0cUrL9A",
        "outputId": "4249ea09-2bd6-4b4f-8607-a38fde45dfee"
      },
      "execution_count": null,
      "outputs": [
        {
          "output_type": "execute_result",
          "data": {
            "text/plain": [
              "65"
            ]
          },
          "metadata": {},
          "execution_count": 74
        }
      ]
    },
    {
      "cell_type": "markdown",
      "source": [
        "23) Write a Python Program to Make a Simple Calculator with 4 basic mathematical\n",
        "operations."
      ],
      "metadata": {
        "id": "1Y5sWjGGrxBT"
      }
    },
    {
      "cell_type": "code",
      "source": [
        "def calculator(a, b, operation):\n",
        "    if operation == 'add':\n",
        "        return a + b\n",
        "    elif operation == 'subtract':\n",
        "        return a - b\n",
        "    elif operation == 'multiply':\n",
        "        return a * b\n",
        "    elif operation == 'divide':\n",
        "        if b != 0:\n",
        "            return a / b\n",
        "        else:\n",
        "            return \"Cannot divide by zero\"\n",
        "    else:\n",
        "        return \"Invalid operation\"\n",
        "\n",
        "print(calculator(10, 5, 'add'))\n",
        "print(calculator(10, 5, 'subtract'))\n",
        "print(calculator(10, 5, 'multiply'))\n",
        "print(calculator(10, 5, 'divide'))"
      ],
      "metadata": {
        "colab": {
          "base_uri": "https://localhost:8080/"
        },
        "id": "WdexFR3-rn_T",
        "outputId": "0b09c08d-fcdd-4ffa-ae4f-039170d7253f"
      },
      "execution_count": null,
      "outputs": [
        {
          "output_type": "stream",
          "name": "stdout",
          "text": [
            "15\n",
            "5\n",
            "50\n",
            "2.0\n"
          ]
        }
      ]
    },
    {
      "cell_type": "markdown",
      "source": [
        "24) Write a Python Program to Find Factorial of Number Using Recursion."
      ],
      "metadata": {
        "id": "KATO-a_ssDTd"
      }
    },
    {
      "cell_type": "code",
      "source": [
        "def factorial(n):\n",
        "    if n == 0 or n == 1:\n",
        "        return 1\n",
        "    else:\n",
        "        return n * factorial(n - 1)\n",
        "\n",
        "factorial(5)"
      ],
      "metadata": {
        "colab": {
          "base_uri": "https://localhost:8080/"
        },
        "id": "Pk_m2SR4r4Kw",
        "outputId": "425df2eb-391f-4a4d-ca64-d00e2d70d089"
      },
      "execution_count": null,
      "outputs": [
        {
          "output_type": "execute_result",
          "data": {
            "text/plain": [
              "120"
            ]
          },
          "metadata": {},
          "execution_count": 81
        }
      ]
    },
    {
      "cell_type": "markdown",
      "source": [
        "25) Write a Python Program to calculate the natural logarithm of any number."
      ],
      "metadata": {
        "id": "rtZTXKTDt-1N"
      }
    },
    {
      "cell_type": "code",
      "source": [
        "import math\n",
        "def logg(n):\n",
        "  m = math.log(n)\n",
        "  return m\n",
        "\n",
        "logg(10)"
      ],
      "metadata": {
        "colab": {
          "base_uri": "https://localhost:8080/"
        },
        "id": "AszTFLBgtqUH",
        "outputId": "9f732196-7b78-4b6c-8aeb-d06f09efec7d"
      },
      "execution_count": null,
      "outputs": [
        {
          "output_type": "execute_result",
          "data": {
            "text/plain": [
              "2.302585092994046"
            ]
          },
          "metadata": {},
          "execution_count": 83
        }
      ]
    },
    {
      "cell_type": "markdown",
      "source": [
        "26) Write a Python Program for cube sum of first n natural numbers?"
      ],
      "metadata": {
        "id": "cnFwG6RpuNDO"
      }
    },
    {
      "cell_type": "code",
      "source": [
        "def cube_sum(n):\n",
        "    return sum(i**3 for i in range(1, n + 1))\n",
        "\n",
        "cube_sum(5)"
      ],
      "metadata": {
        "colab": {
          "base_uri": "https://localhost:8080/"
        },
        "id": "HAMhC-C0ual0",
        "outputId": "9bb50686-c5b2-407c-f669-cb11bc47738a"
      },
      "execution_count": null,
      "outputs": [
        {
          "output_type": "execute_result",
          "data": {
            "text/plain": [
              "225"
            ]
          },
          "metadata": {},
          "execution_count": 86
        }
      ]
    },
    {
      "cell_type": "code",
      "source": [
        "def cube_sum(n):\n",
        "    return [i**3 for i in range(1, n + 1)]\n",
        "\n",
        "cube_sum(5)"
      ],
      "metadata": {
        "colab": {
          "base_uri": "https://localhost:8080/"
        },
        "id": "X0MvPXUNKNYe",
        "outputId": "56f7c253-857d-43bc-81ea-dd230b6ff018"
      },
      "execution_count": null,
      "outputs": [
        {
          "output_type": "execute_result",
          "data": {
            "text/plain": [
              "[1, 8, 27, 64, 125]"
            ]
          },
          "metadata": {},
          "execution_count": 5
        }
      ]
    },
    {
      "cell_type": "markdown",
      "source": [
        "27) Write a Python Program for array rotation."
      ],
      "metadata": {
        "id": "P-qRH5lrv7rd"
      }
    },
    {
      "cell_type": "code",
      "source": [
        "def rot(arr,k):\n",
        "    return arr[k:] + arr[:k]\n",
        "\n",
        "rot([1,2,3,4,5], 2)"
      ],
      "metadata": {
        "colab": {
          "base_uri": "https://localhost:8080/"
        },
        "id": "z15czPy6ulBN",
        "outputId": "655d4abf-35d1-43ed-8cbb-1025f0244a96"
      },
      "execution_count": null,
      "outputs": [
        {
          "output_type": "execute_result",
          "data": {
            "text/plain": [
              "[3, 4, 5, 1, 2]"
            ]
          },
          "metadata": {},
          "execution_count": 89
        }
      ]
    },
    {
      "cell_type": "markdown",
      "source": [
        "28) Write a Python Program to Split the array and add the first part to the end?"
      ],
      "metadata": {
        "id": "1SA2zi8SxEGa"
      }
    },
    {
      "cell_type": "code",
      "source": [
        "def split_and_add(arr, k):\n",
        "    return arr[k:] + arr[:k]\n",
        "\n",
        "split_and_add([1, 2, 3, 4, 5], 2)"
      ],
      "metadata": {
        "colab": {
          "base_uri": "https://localhost:8080/"
        },
        "id": "KUuXKbb-wP3J",
        "outputId": "08edd466-6c47-4070-83cd-0cc69e17af8d"
      },
      "execution_count": null,
      "outputs": [
        {
          "output_type": "execute_result",
          "data": {
            "text/plain": [
              "[3, 4, 5, 1, 2]"
            ]
          },
          "metadata": {},
          "execution_count": 91
        }
      ]
    },
    {
      "cell_type": "markdown",
      "source": [
        "29) Write a Python Program to Sort Words in Alphabetic Order."
      ],
      "metadata": {
        "id": "1Hk4ibF576Cm"
      }
    },
    {
      "cell_type": "code",
      "source": [
        "def order(words):\n",
        "  n = words.split()\n",
        "  n.sort()\n",
        "  return \" \".join(n)\n",
        "\n",
        "order(\"bala is a dhoni fan\")"
      ],
      "metadata": {
        "colab": {
          "base_uri": "https://localhost:8080/",
          "height": 35
        },
        "id": "I70xBPotxGv8",
        "outputId": "a539b6c5-7b08-4c49-8583-5cad58cead18"
      },
      "execution_count": null,
      "outputs": [
        {
          "output_type": "execute_result",
          "data": {
            "text/plain": [
              "'a bala dhoni fan is'"
            ],
            "application/vnd.google.colaboratory.intrinsic+json": {
              "type": "string"
            }
          },
          "metadata": {},
          "execution_count": 14
        }
      ]
    },
    {
      "cell_type": "markdown",
      "source": [
        "30) Write a Python Program to Remove Punctuation From a String."
      ],
      "metadata": {
        "id": "e-YvguLE8cyk"
      }
    },
    {
      "cell_type": "code",
      "source": [
        "import string\n",
        "def strng(st):\n",
        "   new = str.maketrans('', '', string.punctuation)\n",
        "    # Use the translate function to remove punctuation\n",
        "   return st.translate(new)\n",
        "\n",
        "strng(\"a, beautiful morning!!\")"
      ],
      "metadata": {
        "colab": {
          "base_uri": "https://localhost:8080/",
          "height": 35
        },
        "id": "cfrqzyr-8Tnk",
        "outputId": "5187c694-d801-437c-a90e-af52f3d05e83"
      },
      "execution_count": null,
      "outputs": [
        {
          "output_type": "execute_result",
          "data": {
            "text/plain": [
              "'a beautiful morning'"
            ],
            "application/vnd.google.colaboratory.intrinsic+json": {
              "type": "string"
            }
          },
          "metadata": {},
          "execution_count": 96
        }
      ]
    },
    {
      "cell_type": "markdown",
      "source": [
        "31) Write a Python program to determine whether the given number is a Harshad\n",
        "Number."
      ],
      "metadata": {
        "id": "wqe5bx-i98eC"
      }
    },
    {
      "cell_type": "markdown",
      "source": [
        " A number is a Harshad Number if it is divisible by the sum of its digits"
      ],
      "metadata": {
        "id": "KwkG707TM07A"
      }
    },
    {
      "cell_type": "code",
      "source": [
        "def is_harshad_number(num):\n",
        "    digit_sum = sum(int(i) for i in str(num))\n",
        "    return num % digit_sum == 0\n",
        "\n",
        "is_harshad_number(23)"
      ],
      "metadata": {
        "colab": {
          "base_uri": "https://localhost:8080/"
        },
        "id": "CuUNDQho8zHS",
        "outputId": "3375a5a6-8599-42c0-f339-a4120f2c0cf5"
      },
      "execution_count": null,
      "outputs": [
        {
          "output_type": "execute_result",
          "data": {
            "text/plain": [
              "False"
            ]
          },
          "metadata": {},
          "execution_count": 5
        }
      ]
    },
    {
      "cell_type": "markdown",
      "source": [
        "32) Write a Python program to Multiply all numbers in the list."
      ],
      "metadata": {
        "id": "p6MYZf3UTaBz"
      }
    },
    {
      "cell_type": "code",
      "source": [
        "def mul(nums):\n",
        "    r = 1\n",
        "    for i in nums:\n",
        "        r  = r * i\n",
        "    return r\n",
        "\n",
        "mul([1,2,3,4])"
      ],
      "metadata": {
        "colab": {
          "base_uri": "https://localhost:8080/"
        },
        "id": "mApFstf-Mi6l",
        "outputId": "6ddea526-bf50-44e6-98e7-b7411af846bf"
      },
      "execution_count": null,
      "outputs": [
        {
          "output_type": "execute_result",
          "data": {
            "text/plain": [
              "24"
            ]
          },
          "metadata": {},
          "execution_count": 107
        }
      ]
    },
    {
      "cell_type": "markdown",
      "source": [
        "33) Write a Python program to find smallest number in a list."
      ],
      "metadata": {
        "id": "QjwyiUoCUSmI"
      }
    },
    {
      "cell_type": "code",
      "source": [
        "def small(num):\n",
        "  r = min(num)\n",
        "  return r\n",
        "\n",
        "small([10,2,3,55,6,4])"
      ],
      "metadata": {
        "colab": {
          "base_uri": "https://localhost:8080/"
        },
        "id": "77uqGD3XTtBa",
        "outputId": "22882967-6e8f-4090-bb90-e15ad6a418e7"
      },
      "execution_count": null,
      "outputs": [
        {
          "output_type": "execute_result",
          "data": {
            "text/plain": [
              "2"
            ]
          },
          "metadata": {},
          "execution_count": 110
        }
      ]
    },
    {
      "cell_type": "markdown",
      "source": [
        "34) Write a Python program to find largest number in a list."
      ],
      "metadata": {
        "id": "HFaxkEYGUiUz"
      }
    },
    {
      "cell_type": "code",
      "source": [
        "def big(num):\n",
        "  r = max(num)\n",
        "  return r\n",
        "\n",
        "big([10,2,3,55,6,4])"
      ],
      "metadata": {
        "colab": {
          "base_uri": "https://localhost:8080/"
        },
        "id": "NmWzY9t2UdMb",
        "outputId": "d3a07660-a9b3-4fff-ba65-69f2a3bf59e5"
      },
      "execution_count": null,
      "outputs": [
        {
          "output_type": "execute_result",
          "data": {
            "text/plain": [
              "55"
            ]
          },
          "metadata": {},
          "execution_count": 111
        }
      ]
    },
    {
      "cell_type": "markdown",
      "source": [
        "35) Write a Python program to find second largest number in a list."
      ],
      "metadata": {
        "id": "MX0rP5aKUqX8"
      }
    },
    {
      "cell_type": "code",
      "source": [
        "def second_largest(lst):\n",
        "    lst = list(set(lst))\n",
        "    lst.sort()\n",
        "    return lst[-2]\n",
        "\n",
        "second_largest([10, 20, 4, 45, 99, 20, 100])"
      ],
      "metadata": {
        "colab": {
          "base_uri": "https://localhost:8080/"
        },
        "id": "-1xu81j7UmSW",
        "outputId": "29d1e66e-402b-4a99-a532-96f9317b027e"
      },
      "execution_count": null,
      "outputs": [
        {
          "output_type": "execute_result",
          "data": {
            "text/plain": [
              "99"
            ]
          },
          "metadata": {},
          "execution_count": 7
        }
      ]
    },
    {
      "cell_type": "markdown",
      "source": [
        "36) Write a Python program to find N largest elements from a list."
      ],
      "metadata": {
        "id": "hidVzmJHX_Yk"
      }
    },
    {
      "cell_type": "code",
      "source": [
        "def n_largest_elements(numbers, n):\n",
        "    return sorted(numbers, reverse=True)[:n]\n",
        "\n",
        "n_largest_elements([10, 20, 4, 45, 99, 77, 12], 3)"
      ],
      "metadata": {
        "colab": {
          "base_uri": "https://localhost:8080/"
        },
        "id": "mhWqP6EmVI3T",
        "outputId": "11e73abb-6159-4c38-83f5-3f0546d30fa8"
      },
      "execution_count": null,
      "outputs": [
        {
          "output_type": "execute_result",
          "data": {
            "text/plain": [
              "[99, 77, 45]"
            ]
          },
          "metadata": {},
          "execution_count": 2
        }
      ]
    },
    {
      "cell_type": "markdown",
      "source": [
        "37) Write a Python program to print even numbers in a list."
      ],
      "metadata": {
        "id": "M63gl3KSa46H"
      }
    },
    {
      "cell_type": "code",
      "source": [
        "def even(numm):\n",
        "    even_numbers = []\n",
        "    for i in numm:\n",
        "        if i % 2 == 0:\n",
        "            even_numbers.append(i)\n",
        "    return even_numbers\n",
        "\n",
        "print(even([2, 4, 5, 6, 7, 8]))"
      ],
      "metadata": {
        "colab": {
          "base_uri": "https://localhost:8080/"
        },
        "id": "yrTDGCZsaIkU",
        "outputId": "91927c04-e0ff-45fe-e012-f7c394d040f0"
      },
      "execution_count": null,
      "outputs": [
        {
          "output_type": "stream",
          "name": "stdout",
          "text": [
            "[2, 4, 6, 8]\n"
          ]
        }
      ]
    },
    {
      "cell_type": "code",
      "source": [
        "def rem(lst):\n",
        "    return [i for i in lst if i%2 == 0]  # using list comprehension\n",
        "\n",
        "rem([1,2,3,4,5,6,7,8,10])"
      ],
      "metadata": {
        "colab": {
          "base_uri": "https://localhost:8080/"
        },
        "id": "-9KZDgDPiCYD",
        "outputId": "d3b0daf4-7d72-4f62-d914-141af8e39ba4"
      },
      "execution_count": null,
      "outputs": [
        {
          "output_type": "execute_result",
          "data": {
            "text/plain": [
              "[2, 4, 6, 8, 10]"
            ]
          },
          "metadata": {},
          "execution_count": 134
        }
      ]
    },
    {
      "cell_type": "markdown",
      "source": [
        "38) Write a Python program to print odd numbers in a List."
      ],
      "metadata": {
        "id": "zOt9w4MjbysF"
      }
    },
    {
      "cell_type": "code",
      "source": [
        "def even(numm):\n",
        "    even_numbers = []\n",
        "    for i in numm:\n",
        "        if i % 2 != 0:\n",
        "            even_numbers.append(i)\n",
        "    return even_numbers\n",
        "\n",
        "print(even([2, 4, 5, 6, 7, 8]))"
      ],
      "metadata": {
        "colab": {
          "base_uri": "https://localhost:8080/"
        },
        "id": "8o7r1tvWbT0R",
        "outputId": "f30904be-9e28-4ebf-c46c-dcda4279169a"
      },
      "execution_count": null,
      "outputs": [
        {
          "output_type": "stream",
          "name": "stdout",
          "text": [
            "[5, 7]\n"
          ]
        }
      ]
    },
    {
      "cell_type": "code",
      "source": [
        "def rem(lst):\n",
        "    return [i for i in lst if i%2 != 0]  # using list comprehension\n",
        "\n",
        "rem([1,2,3,4,5,6,7,8,10])"
      ],
      "metadata": {
        "colab": {
          "base_uri": "https://localhost:8080/"
        },
        "id": "qq6DcDPKiJPe",
        "outputId": "4353b14c-d9e6-4b4c-c382-3de46fa5af98"
      },
      "execution_count": null,
      "outputs": [
        {
          "output_type": "execute_result",
          "data": {
            "text/plain": [
              "[1, 3, 5, 7]"
            ]
          },
          "metadata": {},
          "execution_count": 135
        }
      ]
    },
    {
      "cell_type": "markdown",
      "source": [
        "39) Write a Python program to Remove empty List from List."
      ],
      "metadata": {
        "id": "TmMH7cAGcAP8"
      }
    },
    {
      "cell_type": "code",
      "source": [
        "def remove_empty_lists(lst):\n",
        "    return [i for i in lst if i != []]  # Keep only non-empty lists\n",
        "\n",
        "remove_empty_lists([1, [], [2, 3], [], 4, [], [5]])"
      ],
      "metadata": {
        "colab": {
          "base_uri": "https://localhost:8080/"
        },
        "id": "mK0OgTh1b28X",
        "outputId": "c31b73b7-3c14-41ca-cf03-df7d42998869"
      },
      "execution_count": null,
      "outputs": [
        {
          "output_type": "execute_result",
          "data": {
            "text/plain": [
              "[1, [2, 3], 4, [5]]"
            ]
          },
          "metadata": {},
          "execution_count": 131
        }
      ]
    },
    {
      "cell_type": "markdown",
      "source": [
        "40) Write a Python program to Cloning or Copying a list."
      ],
      "metadata": {
        "id": "3Lt4heB5i8zP"
      }
    },
    {
      "cell_type": "code",
      "source": [
        "def clone(data):\n",
        "  org = data[:] #using slice\n",
        "  return org\n",
        "\n",
        "clone([1,2,3,4,5])"
      ],
      "metadata": {
        "colab": {
          "base_uri": "https://localhost:8080/"
        },
        "id": "t7F3bATNh6FM",
        "outputId": "c215ce09-7ae1-4b31-a6cb-f4359b2fed06"
      },
      "execution_count": null,
      "outputs": [
        {
          "output_type": "execute_result",
          "data": {
            "text/plain": [
              "[1, 2, 3, 4, 5]"
            ]
          },
          "metadata": {},
          "execution_count": 137
        }
      ]
    },
    {
      "cell_type": "markdown",
      "source": [
        "41) Write a Python program to Count occurrences of an element in a list."
      ],
      "metadata": {
        "id": "OJ1Qdc3vjX7d"
      }
    },
    {
      "cell_type": "code",
      "source": [
        "from collections import Counter\n",
        "def ran(lst):\n",
        "  r = Counter(lst)\n",
        "  return r\n",
        "\n",
        "ran([1,1,2,2,3,4,5])"
      ],
      "metadata": {
        "colab": {
          "base_uri": "https://localhost:8080/"
        },
        "id": "lENI6_nnjMbz",
        "outputId": "10ee18d1-7861-4bd8-bda4-db837ff20448"
      },
      "execution_count": null,
      "outputs": [
        {
          "output_type": "execute_result",
          "data": {
            "text/plain": [
              "Counter({1: 2, 2: 2, 3: 1, 4: 1, 5: 1})"
            ]
          },
          "metadata": {},
          "execution_count": 140
        }
      ]
    },
    {
      "cell_type": "markdown",
      "source": [
        "42) Write a Python program to find words which are greater than given length k."
      ],
      "metadata": {
        "id": "wzsCPoBTjx1M"
      }
    },
    {
      "cell_type": "code",
      "source": [
        "def find_long_words(words, k):\n",
        "    return [i for i in words if len(i) > k]\n",
        "\n",
        "find_long_words([\"apple\", \"banana\", \"kiwi\", \"cherry\", \"mango\"], 5)"
      ],
      "metadata": {
        "colab": {
          "base_uri": "https://localhost:8080/"
        },
        "id": "K0MqoPyejcSA",
        "outputId": "ffbea083-6f24-40b1-871f-ec05e7321f57"
      },
      "execution_count": null,
      "outputs": [
        {
          "output_type": "execute_result",
          "data": {
            "text/plain": [
              "['banana', 'cherry']"
            ]
          },
          "metadata": {},
          "execution_count": 145
        }
      ]
    },
    {
      "cell_type": "markdown",
      "source": [
        "43) Write a Python program for removing ith character from a string"
      ],
      "metadata": {
        "id": "c7T_A6UulH8N"
      }
    },
    {
      "cell_type": "code",
      "source": [
        "def remove_ith_char(string, i):\n",
        "    return string[:i] + string[i+1:]  # Slices the string before and after the i-th index\n",
        "\n",
        "remove_ith_char(\"python\", 2)"
      ],
      "metadata": {
        "colab": {
          "base_uri": "https://localhost:8080/",
          "height": 35
        },
        "id": "f_4IsMzCkXsU",
        "outputId": "608a361c-1ea8-44ab-cf8d-279afe4f8a06"
      },
      "execution_count": null,
      "outputs": [
        {
          "output_type": "execute_result",
          "data": {
            "text/plain": [
              "'pyhon'"
            ],
            "application/vnd.google.colaboratory.intrinsic+json": {
              "type": "string"
            }
          },
          "metadata": {},
          "execution_count": 9
        }
      ]
    },
    {
      "cell_type": "code",
      "source": [
        "string = \"Bala\"\n",
        "i=2\n",
        "string[i:]"
      ],
      "metadata": {
        "colab": {
          "base_uri": "https://localhost:8080/",
          "height": 36
        },
        "id": "ZzFU1IaYmF9j",
        "outputId": "ef76757f-f9f5-4a45-9aef-91f9b1d71f6a"
      },
      "execution_count": null,
      "outputs": [
        {
          "output_type": "execute_result",
          "data": {
            "text/plain": [
              "'la'"
            ],
            "application/vnd.google.colaboratory.intrinsic+json": {
              "type": "string"
            }
          },
          "metadata": {},
          "execution_count": 6
        }
      ]
    },
    {
      "cell_type": "markdown",
      "source": [
        "44) Write a Python program to split and join a string."
      ],
      "metadata": {
        "id": "5IwxIb2jojIT"
      }
    },
    {
      "cell_type": "code",
      "source": [
        "def split_and_join(string):\n",
        "    words = string.split()  # Splits the string into a list of words\n",
        "    return \"-\".join(words)  # Joins the words using the specified delimiter\n",
        "\n",
        "split_and_join(\"Python is amazing\")"
      ],
      "metadata": {
        "colab": {
          "base_uri": "https://localhost:8080/",
          "height": 35
        },
        "id": "AnhqZSaunxba",
        "outputId": "5fc4caaa-b736-4953-d425-76e21dceb53a"
      },
      "execution_count": null,
      "outputs": [
        {
          "output_type": "execute_result",
          "data": {
            "text/plain": [
              "'Python-is-amazing'"
            ],
            "application/vnd.google.colaboratory.intrinsic+json": {
              "type": "string"
            }
          },
          "metadata": {},
          "execution_count": 24
        }
      ]
    },
    {
      "cell_type": "markdown",
      "source": [
        "45) Write a Python program to check if a given string is binary string or not."
      ],
      "metadata": {
        "id": "cZKWXXf9pQ6b"
      }
    },
    {
      "cell_type": "code",
      "source": [
        "def is_binary_string(string):\n",
        "    return all(i in '01' for i in string)  # Check if all characters are either '0' or '1'\n",
        "\n",
        "is_binary_string(\"110210\")"
      ],
      "metadata": {
        "colab": {
          "base_uri": "https://localhost:8080/"
        },
        "id": "jpKWSnERoqy0",
        "outputId": "30263101-f487-4692-cc67-06c44291ec9c"
      },
      "execution_count": null,
      "outputs": [
        {
          "output_type": "execute_result",
          "data": {
            "text/plain": [
              "False"
            ]
          },
          "metadata": {},
          "execution_count": 10
        }
      ]
    },
    {
      "cell_type": "markdown",
      "source": [
        "46) Write a Python program to find uncommon words from two Strings."
      ],
      "metadata": {
        "id": "V2UzVa-qxXFr"
      }
    },
    {
      "cell_type": "code",
      "source": [
        "def uncommon_words(s1, s2):\n",
        "\n",
        "    set1 = set(s1.split())\n",
        "    set2 = set(s2.split())\n",
        "\n",
        "    return set1.symmetric_difference(set2)\n",
        "\n",
        "uncommon_words(\"Bala is a good boy\", \"Bala is a boy\")"
      ],
      "metadata": {
        "colab": {
          "base_uri": "https://localhost:8080/"
        },
        "id": "CfnQILFKwzy0",
        "outputId": "ba757ccb-a9e6-40cb-d4c7-f4d039f3f581"
      },
      "execution_count": null,
      "outputs": [
        {
          "output_type": "execute_result",
          "data": {
            "text/plain": [
              "{'good'}"
            ]
          },
          "metadata": {},
          "execution_count": 160
        }
      ]
    },
    {
      "cell_type": "markdown",
      "source": [
        "47) Write a Python Program to check if a string contains any special character."
      ],
      "metadata": {
        "id": "27dj-54w0ghF"
      }
    },
    {
      "cell_type": "code",
      "source": [
        "import string\n",
        "\n",
        "# Function to check if string contains special characters\n",
        "def contains_special_characters(s):\n",
        "    special_characters = string.punctuation  # All special characters\n",
        "    return any(i in special_characters for i in s)\n",
        "\n",
        "contains_special_characters(\"@World\")"
      ],
      "metadata": {
        "colab": {
          "base_uri": "https://localhost:8080/"
        },
        "id": "vzBUCq-qyGgc",
        "outputId": "77a50c99-9e44-4f93-de04-1fbb34f6d93e"
      },
      "execution_count": null,
      "outputs": [
        {
          "output_type": "execute_result",
          "data": {
            "text/plain": [
              "True"
            ]
          },
          "metadata": {},
          "execution_count": 16
        }
      ]
    },
    {
      "cell_type": "markdown",
      "source": [
        "48) Write a Python program to Extract Unique dictionary values."
      ],
      "metadata": {
        "id": "2HtpHaP821s_"
      }
    },
    {
      "cell_type": "code",
      "source": [
        "def uni(dic):\n",
        "  vari = list(set(dic.values()))\n",
        "  return vari\n",
        "\n",
        "uni({\n",
        "    'A' : 10,\n",
        "    'B' : 10,\n",
        "    'C' : 20,\n",
        "})"
      ],
      "metadata": {
        "colab": {
          "base_uri": "https://localhost:8080/"
        },
        "id": "Q5QhQ1bt13Kb",
        "outputId": "4f136384-fabe-4d38-da2b-b52006313989"
      },
      "execution_count": null,
      "outputs": [
        {
          "output_type": "execute_result",
          "data": {
            "text/plain": [
              "[10, 20]"
            ]
          },
          "metadata": {},
          "execution_count": 174
        }
      ]
    },
    {
      "cell_type": "code",
      "source": [
        "def uni(dic):\n",
        "  vari = set(dic.values())\n",
        "  return vari\n",
        "\n",
        "uni({\n",
        "    'A' : 10,\n",
        "    'B' : 10,\n",
        "    'C' : 20,\n",
        "})"
      ],
      "metadata": {
        "colab": {
          "base_uri": "https://localhost:8080/"
        },
        "id": "zrjQJjAVi5YF",
        "outputId": "63744ba0-4c8f-4a33-8a3b-6a64a428575d"
      },
      "execution_count": null,
      "outputs": [
        {
          "output_type": "execute_result",
          "data": {
            "text/plain": [
              "{10, 20}"
            ]
          },
          "metadata": {},
          "execution_count": 7
        }
      ]
    },
    {
      "cell_type": "code",
      "source": [
        "def uni(dic):\n",
        "  vari = list(set(dic.keys()))\n",
        "  return vari\n",
        "\n",
        "uni({\n",
        "    'A' : 10,\n",
        "    'A' : 10,\n",
        "    'C' : 20,\n",
        "})"
      ],
      "metadata": {
        "colab": {
          "base_uri": "https://localhost:8080/"
        },
        "id": "STKgA6kZ5hpF",
        "outputId": "de68294e-cb58-46bb-97a6-088b790883ec"
      },
      "execution_count": null,
      "outputs": [
        {
          "output_type": "execute_result",
          "data": {
            "text/plain": [
              "['C', 'A']"
            ]
          },
          "metadata": {},
          "execution_count": 176
        }
      ]
    },
    {
      "cell_type": "markdown",
      "source": [
        "49) Write a Python program to find the sum of all items in a dictionary."
      ],
      "metadata": {
        "id": "aakOeX9r5QOX"
      }
    },
    {
      "cell_type": "code",
      "source": [
        "def uni(dic):\n",
        "  vari = sum(dic.values())\n",
        "  return vari\n",
        "\n",
        "uni({\n",
        "    'A' : 10,\n",
        "    'B' : 10,\n",
        "    'C' : 20,\n",
        "})"
      ],
      "metadata": {
        "colab": {
          "base_uri": "https://localhost:8080/"
        },
        "id": "PiAufisv3Fwb",
        "outputId": "a438e58f-7880-4ec3-b25e-6b547f8ea1c7"
      },
      "execution_count": null,
      "outputs": [
        {
          "output_type": "execute_result",
          "data": {
            "text/plain": [
              "40"
            ]
          },
          "metadata": {},
          "execution_count": 172
        }
      ]
    },
    {
      "cell_type": "markdown",
      "source": [
        "50) Write a Python program to Merging two Dictionaries."
      ],
      "metadata": {
        "id": "mb2xczcX5omL"
      }
    },
    {
      "cell_type": "code",
      "source": [
        "def merge_dictionaries(dict1, dict2):\n",
        "    merged_dict = {**dict1, **dict2}  # Merging dictionaries using unpacking\n",
        "    return merged_dict\n",
        "\n",
        "merge_dictionaries({'a': 10, 'b': 20}, {'c': 30, 'd': 40})"
      ],
      "metadata": {
        "colab": {
          "base_uri": "https://localhost:8080/"
        },
        "id": "IyyXZmQ85X8R",
        "outputId": "22aa52af-f536-4e02-fc6f-2c2cadd597ca"
      },
      "execution_count": null,
      "outputs": [
        {
          "output_type": "execute_result",
          "data": {
            "text/plain": [
              "{'a': 10, 'b': 20, 'c': 30, 'd': 40}"
            ]
          },
          "metadata": {},
          "execution_count": 177
        }
      ]
    },
    {
      "cell_type": "markdown",
      "source": [
        "51) Write a Python program to convert key-values list to flat dictionary."
      ],
      "metadata": {
        "id": "7aXT7dS97FW8"
      }
    },
    {
      "cell_type": "code",
      "source": [
        "def di(lst):\n",
        "  r = dict(lst)\n",
        "  return r\n",
        "\n",
        "di([('a', 1), ('b', 2), ('c', 3)])"
      ],
      "metadata": {
        "colab": {
          "base_uri": "https://localhost:8080/"
        },
        "id": "sQKu4pSM6myv",
        "outputId": "775d8eea-1c64-47e9-acab-e9efdbe68e21"
      },
      "execution_count": null,
      "outputs": [
        {
          "output_type": "execute_result",
          "data": {
            "text/plain": [
              "{'a': 1, 'b': 2, 'c': 3}"
            ]
          },
          "metadata": {},
          "execution_count": 185
        }
      ]
    },
    {
      "cell_type": "markdown",
      "source": [
        "52) Write a Python program to sort Python Dictionaries by Key or Value."
      ],
      "metadata": {
        "id": "P9n12mAb7jh6"
      }
    },
    {
      "cell_type": "code",
      "source": [
        "def sort_by_key(d):\n",
        "    return dict(sorted(d.items()))\n",
        "\n",
        "sort_by_key({'apple': 3, 'vanana': 1, 'cherry': 2, 'date': 4})"
      ],
      "metadata": {
        "colab": {
          "base_uri": "https://localhost:8080/"
        },
        "id": "eigDnSO_7Q_O",
        "outputId": "a0b564c8-8cf3-461d-eb51-5bc1abcc9e8c"
      },
      "execution_count": null,
      "outputs": [
        {
          "output_type": "execute_result",
          "data": {
            "text/plain": [
              "{'apple': 3, 'cherry': 2, 'date': 4, 'vanana': 1}"
            ]
          },
          "metadata": {},
          "execution_count": 187
        }
      ]
    },
    {
      "cell_type": "code",
      "source": [
        "def sort_by_values(d):\n",
        "    return dict(sorted(d.items(), key=lambda item: item[1]))\n",
        "\n",
        "sort_by_values({'apple': 3, 'vanana': 1, 'cherry': 2, 'date': 4})"
      ],
      "metadata": {
        "colab": {
          "base_uri": "https://localhost:8080/"
        },
        "id": "M0qrlbo58JID",
        "outputId": "e2fa3eed-199e-45b7-e2ea-7ecfc1f3453a"
      },
      "execution_count": null,
      "outputs": [
        {
          "output_type": "execute_result",
          "data": {
            "text/plain": [
              "{'vanana': 1, 'cherry': 2, 'apple': 3, 'date': 4}"
            ]
          },
          "metadata": {},
          "execution_count": 191
        }
      ]
    },
    {
      "cell_type": "markdown",
      "source": [
        "53) Write a program which takes 2 digits, X,Y as input and generates a 2-dimensional array.\n",
        "The element value in the i-th row and j-th column of the array should be i*j.\n",
        " Note: i=0,1.., X-1; j=0,1,¡Y-1.\n",
        "\n",
        " Example Suppose the following inputs are given to the program:\n",
        "\n",
        " 3,5\n",
        "\n",
        " Then, the output of the program should be:\n",
        "\n",
        " [[0, 0, 0, 0, 0], [0, 1, 2, 3, 4], [0, 2, 4, 6, 8]]"
      ],
      "metadata": {
        "id": "bL0z6AIMR0wR"
      }
    },
    {
      "cell_type": "code",
      "source": [
        "def generate_2d_array(X, Y):\n",
        "    # Generating the 2D array\n",
        "    return [[i * j for j in range(Y)] for i in range(X)]\n",
        "\n",
        "generate_2d_array(3, 5)"
      ],
      "metadata": {
        "id": "JcENvzk98SZv",
        "colab": {
          "base_uri": "https://localhost:8080/"
        },
        "outputId": "c54aed5b-1ecd-4ae9-bd8c-b047995a3388"
      },
      "execution_count": null,
      "outputs": [
        {
          "output_type": "execute_result",
          "data": {
            "text/plain": [
              "[[0, 0, 0, 0, 0], [0, 1, 2, 3, 4], [0, 2, 4, 6, 8]]"
            ]
          },
          "metadata": {},
          "execution_count": 28
        }
      ]
    },
    {
      "cell_type": "code",
      "source": [
        "def generate_1d_array(Y):\n",
        "    # Generating the 1D array\n",
        "    return [j for j in range(Y)]\n",
        "\n",
        "generate_1d_array(5)"
      ],
      "metadata": {
        "colab": {
          "base_uri": "https://localhost:8080/"
        },
        "id": "zzpdPna7Oz6v",
        "outputId": "ebd60767-8e59-4603-c02e-6d58c55eb895"
      },
      "execution_count": null,
      "outputs": [
        {
          "output_type": "execute_result",
          "data": {
            "text/plain": [
              "[0, 1, 2, 3, 4]"
            ]
          },
          "metadata": {},
          "execution_count": 22
        }
      ]
    },
    {
      "cell_type": "markdown",
      "source": [
        "54)  Write a program that accepts a comma separated sequence of words as input and\n",
        " prints the words in a comma-separated sequence after sorting them alphabetically."
      ],
      "metadata": {
        "id": "3zicF6e6SLED"
      }
    },
    {
      "cell_type": "code",
      "source": [
        "def sort_words():\n",
        "    words = input(\"Enter a comma-separated sequence of words: \")\n",
        "    # Split, strip spaces, sort, and join back into a comma-separated string\n",
        "    sorted_words = ','.join(sorted(word.strip() for word in words.split(',')))\n",
        "    print(\"Sorted words:\", sorted_words)\n",
        "\n",
        "sort_words()"
      ],
      "metadata": {
        "colab": {
          "base_uri": "https://localhost:8080/"
        },
        "id": "WbQCuNIoRtlF",
        "outputId": "2d19cf95-a94e-40a9-81ad-bc677b766b1f"
      },
      "execution_count": null,
      "outputs": [
        {
          "output_type": "stream",
          "name": "stdout",
          "text": [
            "Enter a comma-separated sequence of words: bala, bill, abraham, ashok\n",
            "Sorted words: abraham,ashok,bala,bill\n"
          ]
        }
      ]
    },
    {
      "cell_type": "markdown",
      "source": [
        "55) Write a program that accepts a sequence of whitespace separated words as input\n",
        " and prints the words after removing all duplicate words and sorting them\n",
        " alphanumerically."
      ],
      "metadata": {
        "id": "werhZUSkTiGG"
      }
    },
    {
      "cell_type": "code",
      "source": [
        "def remove_duplicates_and_sort():\n",
        "    words = input(\"Enter a sequence of whitespace separated words: \")\n",
        "    unique_words = sorted(set(words.split()))\n",
        "    return ' '.join(unique_words)\n",
        "\n",
        "remove_duplicates_and_sort()"
      ],
      "metadata": {
        "colab": {
          "base_uri": "https://localhost:8080/",
          "height": 53
        },
        "id": "7TLiAKW-SY5I",
        "outputId": "8877f8a8-631d-4e31-d450-511f9a2fe818"
      },
      "execution_count": null,
      "outputs": [
        {
          "name": "stdout",
          "output_type": "stream",
          "text": [
            "Enter a sequence of whitespace separated words: hello world and practice makes perfect and hello world again\n"
          ]
        },
        {
          "output_type": "execute_result",
          "data": {
            "text/plain": [
              "'again and hello makes perfect practice world'"
            ],
            "application/vnd.google.colaboratory.intrinsic+json": {
              "type": "string"
            }
          },
          "metadata": {},
          "execution_count": 37
        }
      ]
    },
    {
      "cell_type": "code",
      "source": [
        "def remove_duplicates_and_sort():\n",
        "    words = input(\"Enter a sequence of whitespace separated words: \")\n",
        "    unique_words = sorted(set(words.split()))\n",
        "    return unique_words\n",
        "\n",
        "remove_duplicates_and_sort()"
      ],
      "metadata": {
        "colab": {
          "base_uri": "https://localhost:8080/"
        },
        "id": "0ZSBtP0oTvm1",
        "outputId": "d438a77d-e0cb-4ed5-dfdf-9d7e4f711f21"
      },
      "execution_count": null,
      "outputs": [
        {
          "name": "stdout",
          "output_type": "stream",
          "text": [
            "Enter a sequence of whitespace separated words: hello world and practice makes perfect and hello world again\n"
          ]
        },
        {
          "output_type": "execute_result",
          "data": {
            "text/plain": [
              "['again', 'and', 'hello', 'makes', 'perfect', 'practice', 'world']"
            ]
          },
          "metadata": {},
          "execution_count": 38
        }
      ]
    },
    {
      "cell_type": "markdown",
      "source": [
        "56)  Write a program that accepts a sentence and calculate the number of letters and digits. Suppose the following input is supplied to the program:\n",
        " hello world! 123\n",
        "\n",
        " Then, the output should be:\n",
        "\n",
        " LETTERS 10\n",
        "\n",
        " DIGITS 3"
      ],
      "metadata": {
        "id": "xhk4BLDIUQhN"
      }
    },
    {
      "cell_type": "code",
      "source": [
        "def count_letters_and_digits():\n",
        "    sentence = input(\"Enter a sentence: \")\n",
        "    letters = sum(i.isalpha() for i in sentence)\n",
        "    digits = sum(i.isdigit() for i in sentence)\n",
        "    print(f\"LETTERS {letters}\\nDIGITS {digits}\")\n",
        "\n",
        "count_letters_and_digits()"
      ],
      "metadata": {
        "colab": {
          "base_uri": "https://localhost:8080/"
        },
        "id": "uBdUtXzBUDwR",
        "outputId": "14291f4b-ce6f-47bb-9a95-05b65dc99bf5"
      },
      "execution_count": null,
      "outputs": [
        {
          "output_type": "stream",
          "name": "stdout",
          "text": [
            "Enter a sentence: hey hi 1 and 2 3\n",
            "LETTERS 8\n",
            "DIGITS 3\n"
          ]
        }
      ]
    },
    {
      "cell_type": "markdown",
      "source": [
        "57)  Define a class with a generator which can iterate the numbers, which are divisible by\n",
        " 7, between a given range 0 and n."
      ],
      "metadata": {
        "id": "_2KNM99_abvO"
      }
    },
    {
      "cell_type": "code",
      "source": [
        "class seven:\n",
        "  def __init__(self, n):\n",
        "     self.n = n\n",
        "\n",
        "  def calculate(self):\n",
        "    return [i for i in range(0, self.n+1, 7)]\n",
        "\n",
        "s = seven(35)\n",
        "s.calculate()"
      ],
      "metadata": {
        "colab": {
          "base_uri": "https://localhost:8080/"
        },
        "id": "NmFp1UPRYjKt",
        "outputId": "34f45fd7-4678-4964-f105-9d95505b59a7"
      },
      "execution_count": null,
      "outputs": [
        {
          "output_type": "execute_result",
          "data": {
            "text/plain": [
              "[0, 7, 14, 21, 28, 35]"
            ]
          },
          "metadata": {},
          "execution_count": 50
        }
      ]
    },
    {
      "cell_type": "code",
      "source": [
        "def cal(n):\n",
        "  return [i for i in range(0, n+1, 7)]\n",
        "\n",
        "cal(50)"
      ],
      "metadata": {
        "colab": {
          "base_uri": "https://localhost:8080/"
        },
        "id": "CdOiTnPXRj7q",
        "outputId": "5cd47c3a-1aeb-4d11-f6be-4b337cbe95c4"
      },
      "execution_count": null,
      "outputs": [
        {
          "output_type": "execute_result",
          "data": {
            "text/plain": [
              "[0, 7, 14, 21, 28, 35, 42, 49]"
            ]
          },
          "metadata": {},
          "execution_count": 23
        }
      ]
    },
    {
      "cell_type": "markdown",
      "source": [
        "58)  Define a class Person and its two child classes: Male and Female. All classes have a\n",
        " method \"getGender\" which can print \"Male\" for Male class and \"Female\" for Female\n",
        " class."
      ],
      "metadata": {
        "id": "u1zFIZcecd75"
      }
    },
    {
      "cell_type": "code",
      "source": [
        "class Person:\n",
        "    def getGender(self):\n",
        "        pass\n",
        "\n",
        "class Male(Person):\n",
        "    def getGender(self):\n",
        "        print(\"Male\")\n",
        "\n",
        "class Female(Person):\n",
        "    def getGender(self):\n",
        "        print(\"Female\")\n",
        "\n",
        "male = Male()\n",
        "female = Female()\n",
        "\n",
        "male.getGender()\n",
        "female.getGender()"
      ],
      "metadata": {
        "colab": {
          "base_uri": "https://localhost:8080/"
        },
        "id": "o3veHJSIbOxc",
        "outputId": "8feb312d-bdc2-429d-e356-7d7e93f709a0"
      },
      "execution_count": null,
      "outputs": [
        {
          "output_type": "stream",
          "name": "stdout",
          "text": [
            "Male\n",
            "Female\n"
          ]
        }
      ]
    },
    {
      "cell_type": "markdown",
      "source": [
        "59) Write a program to compute the frequency of the words from the input. The output\n",
        " should output after sorting the key alphanumerically"
      ],
      "metadata": {
        "id": "yESwVs9gc1i0"
      }
    },
    {
      "cell_type": "code",
      "source": [
        "from collections import Counter\n",
        "def sorty(n):\n",
        "  new = n.split()\n",
        "  coun = Counter(new)\n",
        "  v = sorted(coun.items())\n",
        "  return v\n",
        "\n",
        "sorty(\"My name is Bala and Bala is a Dhoni fan\")"
      ],
      "metadata": {
        "colab": {
          "base_uri": "https://localhost:8080/"
        },
        "id": "14uKGe7Ocbjk",
        "outputId": "6029dc89-2c02-4b83-e17a-7058e3c52a67"
      },
      "execution_count": null,
      "outputs": [
        {
          "output_type": "execute_result",
          "data": {
            "text/plain": [
              "[('Bala', 2),\n",
              " ('Dhoni', 1),\n",
              " ('My', 1),\n",
              " ('a', 1),\n",
              " ('and', 1),\n",
              " ('fan', 1),\n",
              " ('is', 2),\n",
              " ('name', 1)]"
            ]
          },
          "metadata": {},
          "execution_count": 66
        }
      ]
    },
    {
      "cell_type": "markdown",
      "source": [
        "60)  Please write a program to generate all sentences where subject is in [\"I\", \"You\"] and\n",
        " verb is in [\"Play\", \"Love\"] and the object is in [\"Hockey\",\"Football\"]."
      ],
      "metadata": {
        "id": "R60q31avf3VV"
      }
    },
    {
      "cell_type": "code",
      "source": [
        "def generate_sentences():\n",
        "    subjects = [\"I\", \"You\"]\n",
        "    verbs = [\"Play\", \"Love\"]\n",
        "    objects = [\"Hockey\", \"Football\"]\n",
        "    sentences = [f\"{i} {j} {k}\" for i in subjects for j in verbs for k in objects]\n",
        "    return sentences\n",
        "\n",
        "generate_sentences()"
      ],
      "metadata": {
        "colab": {
          "base_uri": "https://localhost:8080/"
        },
        "id": "7bxnoS-sdPg2",
        "outputId": "2bea7bfb-c1ba-4178-b0ba-546261afb54c"
      },
      "execution_count": null,
      "outputs": [
        {
          "output_type": "execute_result",
          "data": {
            "text/plain": [
              "['I Play Hockey',\n",
              " 'I Play Football',\n",
              " 'I Love Hockey',\n",
              " 'I Love Football',\n",
              " 'You Play Hockey',\n",
              " 'You Play Football',\n",
              " 'You Love Hockey',\n",
              " 'You Love Football']"
            ]
          },
          "metadata": {},
          "execution_count": 68
        }
      ]
    },
    {
      "cell_type": "markdown",
      "source": [
        "61) Write a python program for a given positive integer N, find the closest number P to N which can be written as 2P."
      ],
      "metadata": {
        "id": "MuIpGjMrJqln"
      }
    },
    {
      "cell_type": "code",
      "source": [
        "def limitt(n):\n",
        "  l = 2 ** (n.bit_length() - 1)\n",
        "  h = 2 ** n.bit_length()\n",
        "\n",
        "  if abs(l - n) <= abs(h - n):\n",
        "        return l\n",
        "  else:\n",
        "        return h\n",
        "\n",
        "limitt(20)"
      ],
      "metadata": {
        "id": "m7jnMKmbgFB1",
        "colab": {
          "base_uri": "https://localhost:8080/"
        },
        "outputId": "bf125c15-9a15-4453-e826-a389c950a649"
      },
      "execution_count": null,
      "outputs": [
        {
          "output_type": "execute_result",
          "data": {
            "text/plain": [
              "16"
            ]
          },
          "metadata": {},
          "execution_count": 8
        }
      ]
    },
    {
      "cell_type": "markdown",
      "source": [
        "62) Using Python programming for a given binary array, return the maximum number of consecutive ones in the array."
      ],
      "metadata": {
        "id": "7cvvz0ukK1po"
      }
    },
    {
      "cell_type": "code",
      "source": [
        "def max_consecutive_ones(arr):\n",
        "    max_count = 0  # To store the maximum number of consecutive ones\n",
        "    current_count = 0  # To count the current streak of ones\n",
        "\n",
        "    for i in arr:\n",
        "        if i == 1:  # If the element is 1, increase the current count\n",
        "            current_count += 1\n",
        "            max_count = max(max_count, current_count)  # Update the maximum count\n",
        "        else:\n",
        "            current_count = 0  # Reset the current count when 0 is encountered\n",
        "\n",
        "    return max_count\n",
        "max_consecutive_ones([1, 1, 0, 1, 1, 1, 1, 1, 0, 1])"
      ],
      "metadata": {
        "colab": {
          "base_uri": "https://localhost:8080/"
        },
        "id": "rl1qxF0oKvhp",
        "outputId": "9265e05a-e2cc-4431-aa1c-62d9a97badd8"
      },
      "execution_count": null,
      "outputs": [
        {
          "output_type": "execute_result",
          "data": {
            "text/plain": [
              "5"
            ]
          },
          "metadata": {},
          "execution_count": 25
        }
      ]
    },
    {
      "cell_type": "markdown",
      "source": [
        "63) Write a python program to create a polygon area calculator using classes and objects."
      ],
      "metadata": {
        "id": "iYgCN4SFMWEX"
      }
    },
    {
      "cell_type": "code",
      "source": [
        "import math\n",
        "class Polygon():\n",
        "    def __init__(self):\n",
        "      pass\n",
        "\n",
        "class Rectangle(Polygon):\n",
        "    def __init__(self, width, height):\n",
        "        self.width = width\n",
        "        self.height = height\n",
        "\n",
        "    def area(self):\n",
        "        return self.width * self.height\n",
        "\n",
        "class Triangle(Polygon):\n",
        "    def __init__(self, base, height):\n",
        "        self.base = base\n",
        "        self.height = height\n",
        "\n",
        "    def area(self):\n",
        "        return 0.5 * self.base * self.height\n",
        "\n",
        "class Circle(Polygon):\n",
        "    def __init__(self, radius):\n",
        "        self.radius = radius\n",
        "\n",
        "    def area(self):\n",
        "        return math.pi * self.radius ** 2\n",
        "\n",
        "rectangle = Rectangle(5, 3)  # Width 5, Height 3\n",
        "triangle = Triangle(4, 6)    # Base 4, Height 6\n",
        "circle = Circle(7)\n",
        "\n",
        "print(rectangle.area())\n",
        "print(triangle.area())\n",
        "print(circle.area())"
      ],
      "metadata": {
        "colab": {
          "base_uri": "https://localhost:8080/"
        },
        "id": "9OE1PUQfLjQZ",
        "outputId": "a8b556a4-9093-4338-d6bd-c2af5da0c75e"
      },
      "execution_count": null,
      "outputs": [
        {
          "output_type": "stream",
          "name": "stdout",
          "text": [
            "15\n",
            "12.0\n",
            "153.93804002589985\n"
          ]
        }
      ]
    },
    {
      "cell_type": "markdown",
      "source": [
        "64) Write a python program print the reverse of a digit without using the reverse() function."
      ],
      "metadata": {
        "id": "ibdWBHxyOU5f"
      }
    },
    {
      "cell_type": "code",
      "source": [
        "def rev(r):\n",
        "  n = int(str(r)[::-1])\n",
        "  return n\n",
        "\n",
        "rev(1234)"
      ],
      "metadata": {
        "colab": {
          "base_uri": "https://localhost:8080/"
        },
        "id": "ondECnNGNBLE",
        "outputId": "32ead6ae-36bc-4e90-c08c-117d90714a98"
      },
      "execution_count": null,
      "outputs": [
        {
          "output_type": "execute_result",
          "data": {
            "text/plain": [
              "4321"
            ]
          },
          "metadata": {},
          "execution_count": 27
        }
      ]
    },
    {
      "cell_type": "markdown",
      "source": [
        "65) Given two arrays, find the median of the resulting array when the two arrays are sorted and merged together.\n",
        "\n",
        "A = [4,3,6,2,6,7,9,2,14,54,7,2]\n",
        "\n",
        "B = [4,5,3,5,7,8,2,2,8,9,3,5]\n"
      ],
      "metadata": {
        "id": "2v88KnghRvhx"
      }
    },
    {
      "cell_type": "code",
      "source": [
        "def find_median_of_arrays(arr1, arr2):\n",
        "    merged_array = sorted(arr1 + arr2)\n",
        "\n",
        "    # Find the median\n",
        "    n = len(merged_array)\n",
        "    if n % 2 == 1:  # Odd length\n",
        "        return merged_array[n // 2]\n",
        "    else:  # Even length\n",
        "        return (merged_array[n // 2 - 1] + merged_array[n // 2]) / 2\n",
        "\n",
        "find_median_of_arrays([4, 3, 6, 1], [4, 5, 3, 5])"
      ],
      "metadata": {
        "colab": {
          "base_uri": "https://localhost:8080/"
        },
        "id": "SfJUExFTRZ0-",
        "outputId": "3a05ede6-62ca-4e30-d9cd-9637e123cd2e"
      },
      "execution_count": null,
      "outputs": [
        {
          "output_type": "execute_result",
          "data": {
            "text/plain": [
              "4.0"
            ]
          },
          "metadata": {},
          "execution_count": 49
        }
      ]
    },
    {
      "cell_type": "markdown",
      "source": [
        "66) Please write a program using generator to print the numbers which can be divisible\n",
        " by 5 and 7 between 0 and n in comma separated form while n is input by console.\n",
        " Example:\n",
        " If the following n is given as input to the program:\n",
        " 100\n",
        " Then, the output of the program should be:\n",
        " 0,35,70"
      ],
      "metadata": {
        "id": "j407TdAoiIEG"
      }
    },
    {
      "cell_type": "code",
      "source": [
        "def divisible_by_5_and_7(n):\n",
        "    for i in range(0, n + 1):  # Iterate from 0 to n\n",
        "        if i % 5 == 0 and i % 7 == 0:\n",
        "            yield i  # Yield the number if divisible by both 5 and 7\n",
        "\n",
        "# Input from user\n",
        "n = int(input(\"Enter a number: \"))\n",
        "# Using the generator to collect results\n",
        "result = list(divisible_by_5_and_7(n))\n",
        "result"
      ],
      "metadata": {
        "colab": {
          "base_uri": "https://localhost:8080/"
        },
        "id": "CPd92510hKeO",
        "outputId": "455ed08c-a518-4d14-884a-4832e0f222e3"
      },
      "execution_count": null,
      "outputs": [
        {
          "name": "stdout",
          "output_type": "stream",
          "text": [
            "Enter a number: 100\n"
          ]
        },
        {
          "output_type": "execute_result",
          "data": {
            "text/plain": [
              "[0, 35, 70]"
            ]
          },
          "metadata": {},
          "execution_count": 8
        }
      ]
    },
    {
      "cell_type": "code",
      "source": [],
      "metadata": {
        "id": "bA9f6D2uiVQL"
      },
      "execution_count": null,
      "outputs": []
    }
  ]
}